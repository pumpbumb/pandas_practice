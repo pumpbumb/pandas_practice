{
 "cells": [
  {
   "cell_type": "markdown",
   "id": "faf60382",
   "metadata": {},
   "source": [
    " # attribute access\n",
    " You may access an `index on a Series` or `column on a DataFrame` directly as an attribute:"
   ]
  },
  {
   "cell_type": "code",
   "execution_count": 1,
   "id": "7b6df76d",
   "metadata": {},
   "outputs": [],
   "source": [
    "import numpy as np\n",
    "import pandas as pd"
   ]
  },
  {
   "cell_type": "markdown",
   "id": "5f42ee2d",
   "metadata": {},
   "source": [
    "### 对于 Series"
   ]
  },
  {
   "cell_type": "code",
   "execution_count": 2,
   "id": "d85fdf19",
   "metadata": {},
   "outputs": [
    {
     "data": {
      "text/plain": [
       "2           3\n",
       "you       NaN\n",
       "8      hahaha\n",
       "dtype: object"
      ]
     },
     "execution_count": 2,
     "metadata": {},
     "output_type": "execute_result"
    }
   ],
   "source": [
    "s1 = pd.Series(['3', np.nan, 'hahaha'], index=list((2, 'you', '8')))  # list 接受一个可迭代对象，将其转换为列表\n",
    "s1"
   ]
  },
  {
   "cell_type": "code",
   "execution_count": 3,
   "id": "ea5f98a2",
   "metadata": {},
   "outputs": [
    {
     "data": {
      "text/plain": [
       "nan"
      ]
     },
     "execution_count": 3,
     "metadata": {},
     "output_type": "execute_result"
    }
   ],
   "source": [
    "s1.you  # 索引"
   ]
  },
  {
   "cell_type": "code",
   "execution_count": 4,
   "id": "c1b9536b",
   "metadata": {},
   "outputs": [],
   "source": [
    "s1.you = 666  # 修改值"
   ]
  },
  {
   "cell_type": "code",
   "execution_count": 5,
   "id": "d73182e2",
   "metadata": {},
   "outputs": [
    {
     "data": {
      "text/plain": [
       "2           3\n",
       "you       666\n",
       "8      hahaha\n",
       "dtype: object"
      ]
     },
     "execution_count": 5,
     "metadata": {},
     "output_type": "execute_result"
    }
   ],
   "source": [
    "s1"
   ]
  },
  {
   "cell_type": "code",
   "execution_count": 6,
   "id": "5faeeee5",
   "metadata": {},
   "outputs": [
    {
     "ename": "SyntaxError",
     "evalue": "invalid syntax (Temp/ipykernel_48524/3150021494.py, line 2)",
     "output_type": "error",
     "traceback": [
      "\u001b[1;36m  File \u001b[1;32m\"C:\\Users\\蔡鑫\\AppData\\Local\\Temp/ipykernel_48524/3150021494.py\"\u001b[1;36m, line \u001b[1;32m2\u001b[0m\n\u001b[1;33m    s1.8\u001b[0m\n\u001b[1;37m       ^\u001b[0m\n\u001b[1;31mSyntaxError\u001b[0m\u001b[1;31m:\u001b[0m invalid syntax\n"
     ]
    }
   ],
   "source": [
    "# 只有当索引元素是一个有效的Python标识符时，你才能使用这种访问，例如，s1.2、s1.8是不允许的。\n",
    "s1.8"
   ]
  },
  {
   "cell_type": "code",
   "execution_count": 7,
   "id": "77f27314",
   "metadata": {},
   "outputs": [
    {
     "ename": "SyntaxError",
     "evalue": "invalid syntax (Temp/ipykernel_48524/2775352423.py, line 1)",
     "output_type": "error",
     "traceback": [
      "\u001b[1;36m  File \u001b[1;32m\"C:\\Users\\蔡鑫\\AppData\\Local\\Temp/ipykernel_48524/2775352423.py\"\u001b[1;36m, line \u001b[1;32m1\u001b[0m\n\u001b[1;33m    s1.2\u001b[0m\n\u001b[1;37m       ^\u001b[0m\n\u001b[1;31mSyntaxError\u001b[0m\u001b[1;31m:\u001b[0m invalid syntax\n"
     ]
    }
   ],
   "source": [
    "s1.2"
   ]
  },
  {
   "cell_type": "markdown",
   "id": "5db192e2",
   "metadata": {},
   "source": [
    "### 对于 DataFrame"
   ]
  },
  {
   "cell_type": "code",
   "execution_count": 8,
   "id": "294687a3",
   "metadata": {
    "scrolled": true
   },
   "outputs": [
    {
     "data": {
      "text/html": [
       "<div>\n",
       "<style scoped>\n",
       "    .dataframe tbody tr th:only-of-type {\n",
       "        vertical-align: middle;\n",
       "    }\n",
       "\n",
       "    .dataframe tbody tr th {\n",
       "        vertical-align: top;\n",
       "    }\n",
       "\n",
       "    .dataframe thead th {\n",
       "        text-align: right;\n",
       "    }\n",
       "</style>\n",
       "<table border=\"1\" class=\"dataframe\">\n",
       "  <thead>\n",
       "    <tr style=\"text-align: right;\">\n",
       "      <th></th>\n",
       "      <th>ddd</th>\n",
       "      <th>2</th>\n",
       "      <th>his</th>\n",
       "      <th>lalala</th>\n",
       "      <th>may</th>\n",
       "      <th>am</th>\n",
       "      <th>888</th>\n",
       "      <th>fighting</th>\n",
       "      <th>999</th>\n",
       "    </tr>\n",
       "  </thead>\n",
       "  <tbody>\n",
       "    <tr>\n",
       "      <th>good</th>\n",
       "      <td>-6</td>\n",
       "      <td>2</td>\n",
       "      <td>-88</td>\n",
       "      <td>-12</td>\n",
       "      <td>56</td>\n",
       "      <td>13</td>\n",
       "      <td>-74</td>\n",
       "      <td>77</td>\n",
       "      <td>39</td>\n",
       "    </tr>\n",
       "    <tr>\n",
       "      <th>66</th>\n",
       "      <td>14</td>\n",
       "      <td>-74</td>\n",
       "      <td>46</td>\n",
       "      <td>-27</td>\n",
       "      <td>31</td>\n",
       "      <td>-19</td>\n",
       "      <td>53</td>\n",
       "      <td>-89</td>\n",
       "      <td>85</td>\n",
       "    </tr>\n",
       "    <tr>\n",
       "      <th>ha</th>\n",
       "      <td>-38</td>\n",
       "      <td>42</td>\n",
       "      <td>-92</td>\n",
       "      <td>-95</td>\n",
       "      <td>88</td>\n",
       "      <td>-52</td>\n",
       "      <td>-11</td>\n",
       "      <td>-16</td>\n",
       "      <td>33</td>\n",
       "    </tr>\n",
       "    <tr>\n",
       "      <th>88</th>\n",
       "      <td>-7</td>\n",
       "      <td>7</td>\n",
       "      <td>-28</td>\n",
       "      <td>-86</td>\n",
       "      <td>-16</td>\n",
       "      <td>-66</td>\n",
       "      <td>-28</td>\n",
       "      <td>-97</td>\n",
       "      <td>-38</td>\n",
       "    </tr>\n",
       "    <tr>\n",
       "      <th>hey</th>\n",
       "      <td>-51</td>\n",
       "      <td>53</td>\n",
       "      <td>-48</td>\n",
       "      <td>35</td>\n",
       "      <td>-2</td>\n",
       "      <td>-74</td>\n",
       "      <td>59</td>\n",
       "      <td>81</td>\n",
       "      <td>87</td>\n",
       "    </tr>\n",
       "    <tr>\n",
       "      <th>ya</th>\n",
       "      <td>39</td>\n",
       "      <td>28</td>\n",
       "      <td>-22</td>\n",
       "      <td>73</td>\n",
       "      <td>-68</td>\n",
       "      <td>8</td>\n",
       "      <td>-52</td>\n",
       "      <td>-38</td>\n",
       "      <td>25</td>\n",
       "    </tr>\n",
       "  </tbody>\n",
       "</table>\n",
       "</div>"
      ],
      "text/plain": [
       "      ddd   2  his  lalala  may  am  888  fighting  999\n",
       "good   -6   2  -88     -12   56  13  -74        77   39\n",
       "66     14 -74   46     -27   31 -19   53       -89   85\n",
       "ha    -38  42  -92     -95   88 -52  -11       -16   33\n",
       "88     -7   7  -28     -86  -16 -66  -28       -97  -38\n",
       "hey   -51  53  -48      35   -2 -74   59        81   87\n",
       "ya     39  28  -22      73  -68   8  -52       -38   25"
      ]
     },
     "execution_count": 8,
     "metadata": {},
     "output_type": "execute_result"
    }
   ],
   "source": [
    "df1 = pd.DataFrame(np.random.randint(-100, 100, size=(6, 9)), index=['good', 66, 'ha', 88, 'hey', 'ya'], \n",
    "                                                                                                      columns=['ddd', 2, 'his', 'lalala', 'may', 'am', '888', 'fighting', '999'])\n",
    "df1"
   ]
  },
  {
   "cell_type": "code",
   "execution_count": 9,
   "id": "f947a42f",
   "metadata": {
    "scrolled": true
   },
   "outputs": [
    {
     "data": {
      "text/plain": [
       "good   -88\n",
       "66      46\n",
       "ha     -92\n",
       "88     -28\n",
       "hey    -48\n",
       "ya     -22\n",
       "Name: his, dtype: int32"
      ]
     },
     "execution_count": 9,
     "metadata": {},
     "output_type": "execute_result"
    }
   ],
   "source": [
    "# 只有当索引元素是一个有效的Python标识符时，你才能使用这种访问，例如，df1.2、df1.888是不允许的。\n",
    "df1.his "
   ]
  },
  {
   "cell_type": "code",
   "execution_count": 10,
   "id": "a6f22a91",
   "metadata": {
    "scrolled": true
   },
   "outputs": [
    {
     "ename": "SyntaxError",
     "evalue": "invalid syntax (Temp/ipykernel_48524/2650409092.py, line 1)",
     "output_type": "error",
     "traceback": [
      "\u001b[1;36m  File \u001b[1;32m\"C:\\Users\\蔡鑫\\AppData\\Local\\Temp/ipykernel_48524/2650409092.py\"\u001b[1;36m, line \u001b[1;32m1\u001b[0m\n\u001b[1;33m    df1.2\u001b[0m\n\u001b[1;37m        ^\u001b[0m\n\u001b[1;31mSyntaxError\u001b[0m\u001b[1;31m:\u001b[0m invalid syntax\n"
     ]
    }
   ],
   "source": [
    "df1.2"
   ]
  },
  {
   "cell_type": "code",
   "execution_count": 11,
   "id": "f44b6b8a",
   "metadata": {},
   "outputs": [
    {
     "ename": "SyntaxError",
     "evalue": "invalid syntax (Temp/ipykernel_48524/1261489967.py, line 1)",
     "output_type": "error",
     "traceback": [
      "\u001b[1;36m  File \u001b[1;32m\"C:\\Users\\蔡鑫\\AppData\\Local\\Temp/ipykernel_48524/1261489967.py\"\u001b[1;36m, line \u001b[1;32m1\u001b[0m\n\u001b[1;33m    df1.888\u001b[0m\n\u001b[1;37m          ^\u001b[0m\n\u001b[1;31mSyntaxError\u001b[0m\u001b[1;31m:\u001b[0m invalid syntax\n"
     ]
    }
   ],
   "source": [
    "df1.888"
   ]
  },
  {
   "cell_type": "code",
   "execution_count": 12,
   "id": "83854e62",
   "metadata": {
    "scrolled": true
   },
   "outputs": [
    {
     "data": {
      "text/html": [
       "<div>\n",
       "<style scoped>\n",
       "    .dataframe tbody tr th:only-of-type {\n",
       "        vertical-align: middle;\n",
       "    }\n",
       "\n",
       "    .dataframe tbody tr th {\n",
       "        vertical-align: top;\n",
       "    }\n",
       "\n",
       "    .dataframe thead th {\n",
       "        text-align: right;\n",
       "    }\n",
       "</style>\n",
       "<table border=\"1\" class=\"dataframe\">\n",
       "  <thead>\n",
       "    <tr style=\"text-align: right;\">\n",
       "      <th></th>\n",
       "      <th>ddd</th>\n",
       "      <th>2</th>\n",
       "      <th>his</th>\n",
       "      <th>lalala</th>\n",
       "      <th>may</th>\n",
       "      <th>am</th>\n",
       "      <th>888</th>\n",
       "      <th>fighting</th>\n",
       "      <th>999</th>\n",
       "    </tr>\n",
       "  </thead>\n",
       "  <tbody>\n",
       "    <tr>\n",
       "      <th>good</th>\n",
       "      <td>-6</td>\n",
       "      <td>2</td>\n",
       "      <td>0</td>\n",
       "      <td>-12</td>\n",
       "      <td>56</td>\n",
       "      <td>13</td>\n",
       "      <td>-74</td>\n",
       "      <td>77</td>\n",
       "      <td>39</td>\n",
       "    </tr>\n",
       "    <tr>\n",
       "      <th>66</th>\n",
       "      <td>14</td>\n",
       "      <td>-74</td>\n",
       "      <td>1</td>\n",
       "      <td>-27</td>\n",
       "      <td>31</td>\n",
       "      <td>-19</td>\n",
       "      <td>53</td>\n",
       "      <td>-89</td>\n",
       "      <td>85</td>\n",
       "    </tr>\n",
       "    <tr>\n",
       "      <th>ha</th>\n",
       "      <td>-38</td>\n",
       "      <td>42</td>\n",
       "      <td>2</td>\n",
       "      <td>-95</td>\n",
       "      <td>88</td>\n",
       "      <td>-52</td>\n",
       "      <td>-11</td>\n",
       "      <td>-16</td>\n",
       "      <td>33</td>\n",
       "    </tr>\n",
       "    <tr>\n",
       "      <th>88</th>\n",
       "      <td>-7</td>\n",
       "      <td>7</td>\n",
       "      <td>3</td>\n",
       "      <td>-86</td>\n",
       "      <td>-16</td>\n",
       "      <td>-66</td>\n",
       "      <td>-28</td>\n",
       "      <td>-97</td>\n",
       "      <td>-38</td>\n",
       "    </tr>\n",
       "    <tr>\n",
       "      <th>hey</th>\n",
       "      <td>-51</td>\n",
       "      <td>53</td>\n",
       "      <td>4</td>\n",
       "      <td>35</td>\n",
       "      <td>-2</td>\n",
       "      <td>-74</td>\n",
       "      <td>59</td>\n",
       "      <td>81</td>\n",
       "      <td>87</td>\n",
       "    </tr>\n",
       "    <tr>\n",
       "      <th>ya</th>\n",
       "      <td>39</td>\n",
       "      <td>28</td>\n",
       "      <td>5</td>\n",
       "      <td>73</td>\n",
       "      <td>-68</td>\n",
       "      <td>8</td>\n",
       "      <td>-52</td>\n",
       "      <td>-38</td>\n",
       "      <td>25</td>\n",
       "    </tr>\n",
       "  </tbody>\n",
       "</table>\n",
       "</div>"
      ],
      "text/plain": [
       "      ddd   2  his  lalala  may  am  888  fighting  999\n",
       "good   -6   2    0     -12   56  13  -74        77   39\n",
       "66     14 -74    1     -27   31 -19   53       -89   85\n",
       "ha    -38  42    2     -95   88 -52  -11       -16   33\n",
       "88     -7   7    3     -86  -16 -66  -28       -97  -38\n",
       "hey   -51  53    4      35   -2 -74   59        81   87\n",
       "ya     39  28    5      73  -68   8  -52       -38   25"
      ]
     },
     "execution_count": 12,
     "metadata": {},
     "output_type": "execute_result"
    }
   ],
   "source": [
    "df1.his = range(6)  # 修改值\n",
    "df1"
   ]
  },
  {
   "cell_type": "markdown",
   "id": "4cb057ef",
   "metadata": {},
   "source": [
    "# selection by callable\n",
    "`.loc`, `.iloc`, and also `[ ]` indexing can accept a callable as indexer. The callable must be a function with one argument (the calling Series or DataFrame) that returns valid output for indexing."
   ]
  },
  {
   "cell_type": "code",
   "execution_count": 13,
   "id": "0199dd6e",
   "metadata": {},
   "outputs": [
    {
     "data": {
      "text/html": [
       "<div>\n",
       "<style scoped>\n",
       "    .dataframe tbody tr th:only-of-type {\n",
       "        vertical-align: middle;\n",
       "    }\n",
       "\n",
       "    .dataframe tbody tr th {\n",
       "        vertical-align: top;\n",
       "    }\n",
       "\n",
       "    .dataframe thead th {\n",
       "        text-align: right;\n",
       "    }\n",
       "</style>\n",
       "<table border=\"1\" class=\"dataframe\">\n",
       "  <thead>\n",
       "    <tr style=\"text-align: right;\">\n",
       "      <th></th>\n",
       "      <th>A</th>\n",
       "      <th>B</th>\n",
       "      <th>C</th>\n",
       "      <th>D</th>\n",
       "    </tr>\n",
       "  </thead>\n",
       "  <tbody>\n",
       "    <tr>\n",
       "      <th>a</th>\n",
       "      <td>-24</td>\n",
       "      <td>20</td>\n",
       "      <td>-75</td>\n",
       "      <td>32</td>\n",
       "    </tr>\n",
       "    <tr>\n",
       "      <th>b</th>\n",
       "      <td>-8</td>\n",
       "      <td>-89</td>\n",
       "      <td>61</td>\n",
       "      <td>63</td>\n",
       "    </tr>\n",
       "    <tr>\n",
       "      <th>c</th>\n",
       "      <td>50</td>\n",
       "      <td>88</td>\n",
       "      <td>64</td>\n",
       "      <td>34</td>\n",
       "    </tr>\n",
       "    <tr>\n",
       "      <th>d</th>\n",
       "      <td>33</td>\n",
       "      <td>36</td>\n",
       "      <td>-33</td>\n",
       "      <td>-67</td>\n",
       "    </tr>\n",
       "    <tr>\n",
       "      <th>e</th>\n",
       "      <td>62</td>\n",
       "      <td>63</td>\n",
       "      <td>-36</td>\n",
       "      <td>67</td>\n",
       "    </tr>\n",
       "    <tr>\n",
       "      <th>f</th>\n",
       "      <td>-79</td>\n",
       "      <td>-77</td>\n",
       "      <td>90</td>\n",
       "      <td>10</td>\n",
       "    </tr>\n",
       "  </tbody>\n",
       "</table>\n",
       "</div>"
      ],
      "text/plain": [
       "    A   B   C   D\n",
       "a -24  20 -75  32\n",
       "b  -8 -89  61  63\n",
       "c  50  88  64  34\n",
       "d  33  36 -33 -67\n",
       "e  62  63 -36  67\n",
       "f -79 -77  90  10"
      ]
     },
     "execution_count": 13,
     "metadata": {},
     "output_type": "execute_result"
    }
   ],
   "source": [
    "df2 = pd.DataFrame(np.random.randint(-100, 100, size=(6, 4)),\n",
    "                   index=list('abcdef'),\n",
    "                   columns=list('ABCD'))\n",
    "df2"
   ]
  },
  {
   "cell_type": "code",
   "execution_count": 14,
   "id": "28bcc080",
   "metadata": {},
   "outputs": [
    {
     "data": {
      "text/html": [
       "<div>\n",
       "<style scoped>\n",
       "    .dataframe tbody tr th:only-of-type {\n",
       "        vertical-align: middle;\n",
       "    }\n",
       "\n",
       "    .dataframe tbody tr th {\n",
       "        vertical-align: top;\n",
       "    }\n",
       "\n",
       "    .dataframe thead th {\n",
       "        text-align: right;\n",
       "    }\n",
       "</style>\n",
       "<table border=\"1\" class=\"dataframe\">\n",
       "  <thead>\n",
       "    <tr style=\"text-align: right;\">\n",
       "      <th></th>\n",
       "      <th>A</th>\n",
       "      <th>B</th>\n",
       "      <th>C</th>\n",
       "      <th>D</th>\n",
       "    </tr>\n",
       "  </thead>\n",
       "  <tbody>\n",
       "    <tr>\n",
       "      <th>c</th>\n",
       "      <td>50</td>\n",
       "      <td>88</td>\n",
       "      <td>64</td>\n",
       "      <td>34</td>\n",
       "    </tr>\n",
       "    <tr>\n",
       "      <th>d</th>\n",
       "      <td>33</td>\n",
       "      <td>36</td>\n",
       "      <td>-33</td>\n",
       "      <td>-67</td>\n",
       "    </tr>\n",
       "    <tr>\n",
       "      <th>e</th>\n",
       "      <td>62</td>\n",
       "      <td>63</td>\n",
       "      <td>-36</td>\n",
       "      <td>67</td>\n",
       "    </tr>\n",
       "  </tbody>\n",
       "</table>\n",
       "</div>"
      ],
      "text/plain": [
       "    A   B   C   D\n",
       "c  50  88  64  34\n",
       "d  33  36 -33 -67\n",
       "e  62  63 -36  67"
      ]
     },
     "execution_count": 14,
     "metadata": {},
     "output_type": "execute_result"
    }
   ],
   "source": [
    "df2.loc[lambda df: df['A'] > 0, :]"
   ]
  },
  {
   "cell_type": "code",
   "execution_count": 15,
   "id": "b231611e",
   "metadata": {},
   "outputs": [
    {
     "data": {
      "text/html": [
       "<div>\n",
       "<style scoped>\n",
       "    .dataframe tbody tr th:only-of-type {\n",
       "        vertical-align: middle;\n",
       "    }\n",
       "\n",
       "    .dataframe tbody tr th {\n",
       "        vertical-align: top;\n",
       "    }\n",
       "\n",
       "    .dataframe thead th {\n",
       "        text-align: right;\n",
       "    }\n",
       "</style>\n",
       "<table border=\"1\" class=\"dataframe\">\n",
       "  <thead>\n",
       "    <tr style=\"text-align: right;\">\n",
       "      <th></th>\n",
       "      <th>A</th>\n",
       "      <th>B</th>\n",
       "    </tr>\n",
       "  </thead>\n",
       "  <tbody>\n",
       "    <tr>\n",
       "      <th>a</th>\n",
       "      <td>-24</td>\n",
       "      <td>20</td>\n",
       "    </tr>\n",
       "    <tr>\n",
       "      <th>b</th>\n",
       "      <td>-8</td>\n",
       "      <td>-89</td>\n",
       "    </tr>\n",
       "    <tr>\n",
       "      <th>c</th>\n",
       "      <td>50</td>\n",
       "      <td>88</td>\n",
       "    </tr>\n",
       "    <tr>\n",
       "      <th>d</th>\n",
       "      <td>33</td>\n",
       "      <td>36</td>\n",
       "    </tr>\n",
       "    <tr>\n",
       "      <th>e</th>\n",
       "      <td>62</td>\n",
       "      <td>63</td>\n",
       "    </tr>\n",
       "    <tr>\n",
       "      <th>f</th>\n",
       "      <td>-79</td>\n",
       "      <td>-77</td>\n",
       "    </tr>\n",
       "  </tbody>\n",
       "</table>\n",
       "</div>"
      ],
      "text/plain": [
       "    A   B\n",
       "a -24  20\n",
       "b  -8 -89\n",
       "c  50  88\n",
       "d  33  36\n",
       "e  62  63\n",
       "f -79 -77"
      ]
     },
     "execution_count": 15,
     "metadata": {},
     "output_type": "execute_result"
    }
   ],
   "source": [
    "df2.loc[:, lambda df: ['A', 'B']]"
   ]
  },
  {
   "cell_type": "code",
   "execution_count": 16,
   "id": "b1f86261",
   "metadata": {
    "scrolled": true
   },
   "outputs": [
    {
     "data": {
      "text/plain": [
       "'A'"
      ]
     },
     "execution_count": 16,
     "metadata": {},
     "output_type": "execute_result"
    }
   ],
   "source": [
    "df2.columns[0]"
   ]
  },
  {
   "cell_type": "code",
   "execution_count": 17,
   "id": "96c74e6e",
   "metadata": {
    "scrolled": true
   },
   "outputs": [
    {
     "data": {
      "text/plain": [
       "a   -24\n",
       "b    -8\n",
       "c    50\n",
       "d    33\n",
       "e    62\n",
       "f   -79\n",
       "Name: A, dtype: int32"
      ]
     },
     "execution_count": 17,
     "metadata": {},
     "output_type": "execute_result"
    }
   ],
   "source": [
    "df2[lambda df: df.columns[0]]"
   ]
  },
  {
   "cell_type": "code",
   "execution_count": 18,
   "id": "3b56bc27",
   "metadata": {},
   "outputs": [
    {
     "data": {
      "text/html": [
       "<div>\n",
       "<style scoped>\n",
       "    .dataframe tbody tr th:only-of-type {\n",
       "        vertical-align: middle;\n",
       "    }\n",
       "\n",
       "    .dataframe tbody tr th {\n",
       "        vertical-align: top;\n",
       "    }\n",
       "\n",
       "    .dataframe thead th {\n",
       "        text-align: right;\n",
       "    }\n",
       "</style>\n",
       "<table border=\"1\" class=\"dataframe\">\n",
       "  <thead>\n",
       "    <tr style=\"text-align: right;\">\n",
       "      <th></th>\n",
       "      <th>A</th>\n",
       "      <th>B</th>\n",
       "      <th>C</th>\n",
       "      <th>D</th>\n",
       "    </tr>\n",
       "  </thead>\n",
       "  <tbody>\n",
       "    <tr>\n",
       "      <th>a</th>\n",
       "      <td>-24</td>\n",
       "      <td>20</td>\n",
       "      <td>-75</td>\n",
       "      <td>32</td>\n",
       "    </tr>\n",
       "    <tr>\n",
       "      <th>b</th>\n",
       "      <td>-8</td>\n",
       "      <td>-89</td>\n",
       "      <td>61</td>\n",
       "      <td>63</td>\n",
       "    </tr>\n",
       "    <tr>\n",
       "      <th>c</th>\n",
       "      <td>50</td>\n",
       "      <td>88</td>\n",
       "      <td>64</td>\n",
       "      <td>34</td>\n",
       "    </tr>\n",
       "    <tr>\n",
       "      <th>d</th>\n",
       "      <td>33</td>\n",
       "      <td>36</td>\n",
       "      <td>-33</td>\n",
       "      <td>-67</td>\n",
       "    </tr>\n",
       "    <tr>\n",
       "      <th>e</th>\n",
       "      <td>62</td>\n",
       "      <td>63</td>\n",
       "      <td>-36</td>\n",
       "      <td>67</td>\n",
       "    </tr>\n",
       "    <tr>\n",
       "      <th>f</th>\n",
       "      <td>-79</td>\n",
       "      <td>-77</td>\n",
       "      <td>90</td>\n",
       "      <td>10</td>\n",
       "    </tr>\n",
       "  </tbody>\n",
       "</table>\n",
       "</div>"
      ],
      "text/plain": [
       "    A   B   C   D\n",
       "a -24  20 -75  32\n",
       "b  -8 -89  61  63\n",
       "c  50  88  64  34\n",
       "d  33  36 -33 -67\n",
       "e  62  63 -36  67\n",
       "f -79 -77  90  10"
      ]
     },
     "execution_count": 18,
     "metadata": {},
     "output_type": "execute_result"
    }
   ],
   "source": [
    "df2"
   ]
  },
  {
   "cell_type": "code",
   "execution_count": 19,
   "id": "88d501b7",
   "metadata": {},
   "outputs": [
    {
     "data": {
      "text/plain": [
       "c    50\n",
       "d    33\n",
       "e    62\n",
       "Name: A, dtype: int32"
      ]
     },
     "execution_count": 19,
     "metadata": {},
     "output_type": "execute_result"
    }
   ],
   "source": [
    "# You can use callable indexing in Series.\n",
    "df2['A'].loc[lambda s: s > 0]"
   ]
  },
  {
   "cell_type": "markdown",
   "id": "01ec1f3d",
   "metadata": {},
   "source": [
    "# selecting random samples 选择随机样本"
   ]
  },
  {
   "cell_type": "code",
   "execution_count": 20,
   "id": "b65b44aa",
   "metadata": {},
   "outputs": [
    {
     "data": {
      "text/plain": [
       "0      8\n",
       "1      9\n",
       "2     13\n",
       "3     66\n",
       "4    555\n",
       "dtype: int64"
      ]
     },
     "execution_count": 20,
     "metadata": {},
     "output_type": "execute_result"
    }
   ],
   "source": [
    "s2 = pd.Series([8, 9, 13, 66, 555])\n",
    "s2"
   ]
  },
  {
   "cell_type": "code",
   "execution_count": 21,
   "id": "fb44c622",
   "metadata": {},
   "outputs": [
    {
     "data": {
      "text/plain": [
       "4    555\n",
       "dtype: int64"
      ]
     },
     "execution_count": 21,
     "metadata": {},
     "output_type": "execute_result"
    }
   ],
   "source": [
    "# When no arguments are passed, returns 1 row.\n",
    "s2.sample()"
   ]
  },
  {
   "cell_type": "code",
   "execution_count": 23,
   "id": "513e33c1",
   "metadata": {
    "scrolled": true
   },
   "outputs": [
    {
     "data": {
      "text/plain": [
       "3    66\n",
       "2    13\n",
       "dtype: int64"
      ]
     },
     "execution_count": 23,
     "metadata": {},
     "output_type": "execute_result"
    }
   ],
   "source": [
    "# One may specify either a number of rows.\n",
    "s2.sample(n=2)"
   ]
  },
  {
   "cell_type": "code",
   "execution_count": 24,
   "id": "0541f009",
   "metadata": {},
   "outputs": [
    {
     "data": {
      "text/plain": [
       "2    13\n",
       "1     9\n",
       "dtype: int64"
      ]
     },
     "execution_count": 24,
     "metadata": {},
     "output_type": "execute_result"
    }
   ],
   "source": [
    "# # Or a fraction of the rows.\n",
    "s2.sample(frac=0.4)  # 5 × 0.4 =2"
   ]
  },
  {
   "cell_type": "code",
   "execution_count": 26,
   "id": "e90b6a45",
   "metadata": {},
   "outputs": [
    {
     "data": {
      "text/plain": [
       "1      9\n",
       "2     13\n",
       "3     66\n",
       "4    555\n",
       "dtype: int64"
      ]
     },
     "execution_count": 26,
     "metadata": {},
     "output_type": "execute_result"
    }
   ],
   "source": [
    "s2.sample(frac=0.8)  # 5 × 0.8 = 4"
   ]
  },
  {
   "cell_type": "code",
   "execution_count": 27,
   "id": "f87e17aa",
   "metadata": {},
   "outputs": [
    {
     "data": {
      "text/plain": [
       "3     66\n",
       "0      8\n",
       "4    555\n",
       "1      9\n",
       "0      8\n",
       "dtype: int64"
      ]
     },
     "execution_count": 27,
     "metadata": {},
     "output_type": "execute_result"
    }
   ],
   "source": [
    "# By default, sample will return each row at most once, but one can also sample with replacement using the replace option.\n",
    "s2.sample(n=5, replace=True)"
   ]
  },
  {
   "cell_type": "markdown",
   "id": "b9b8695c",
   "metadata": {},
   "source": [
    "# Fast scalar value getting and setting 快速标量值获取和设置"
   ]
  },
  {
   "cell_type": "code",
   "execution_count": 30,
   "id": "a1a71111",
   "metadata": {},
   "outputs": [
    {
     "data": {
      "text/plain": [
       "0      8\n",
       "1      9\n",
       "2     13\n",
       "3     66\n",
       "4    555\n",
       "dtype: int64"
      ]
     },
     "execution_count": 30,
     "metadata": {},
     "output_type": "execute_result"
    }
   ],
   "source": [
    "s2"
   ]
  },
  {
   "cell_type": "code",
   "execution_count": 34,
   "id": "81661412",
   "metadata": {},
   "outputs": [
    {
     "data": {
      "text/plain": [
       "13"
      ]
     },
     "execution_count": 34,
     "metadata": {},
     "output_type": "execute_result"
    }
   ],
   "source": [
    "s2[2]"
   ]
  },
  {
   "cell_type": "code",
   "execution_count": 42,
   "id": "b3bd4c89",
   "metadata": {},
   "outputs": [
    {
     "data": {
      "text/plain": [
       "13"
      ]
     },
     "execution_count": 42,
     "metadata": {},
     "output_type": "execute_result"
    }
   ],
   "source": [
    "s2.at[2]  # 标签at"
   ]
  },
  {
   "cell_type": "code",
   "execution_count": 44,
   "id": "d5ac3014",
   "metadata": {},
   "outputs": [
    {
     "data": {
      "text/plain": [
       "555"
      ]
     },
     "execution_count": 44,
     "metadata": {},
     "output_type": "execute_result"
    }
   ],
   "source": [
    "s2.iat[4]  # 整数at"
   ]
  },
  {
   "cell_type": "code",
   "execution_count": 52,
   "id": "6bf5adb2",
   "metadata": {},
   "outputs": [
    {
     "data": {
      "text/html": [
       "<div>\n",
       "<style scoped>\n",
       "    .dataframe tbody tr th:only-of-type {\n",
       "        vertical-align: middle;\n",
       "    }\n",
       "\n",
       "    .dataframe tbody tr th {\n",
       "        vertical-align: top;\n",
       "    }\n",
       "\n",
       "    .dataframe thead th {\n",
       "        text-align: right;\n",
       "    }\n",
       "</style>\n",
       "<table border=\"1\" class=\"dataframe\">\n",
       "  <thead>\n",
       "    <tr style=\"text-align: right;\">\n",
       "      <th></th>\n",
       "      <th>ddd</th>\n",
       "      <th>2</th>\n",
       "      <th>his</th>\n",
       "      <th>lalala</th>\n",
       "      <th>may</th>\n",
       "      <th>am</th>\n",
       "      <th>888</th>\n",
       "      <th>fighting</th>\n",
       "      <th>999</th>\n",
       "    </tr>\n",
       "  </thead>\n",
       "  <tbody>\n",
       "    <tr>\n",
       "      <th>good</th>\n",
       "      <td>-6</td>\n",
       "      <td>2</td>\n",
       "      <td>0</td>\n",
       "      <td>-12</td>\n",
       "      <td>56</td>\n",
       "      <td>13</td>\n",
       "      <td>-74</td>\n",
       "      <td>77</td>\n",
       "      <td>39</td>\n",
       "    </tr>\n",
       "    <tr>\n",
       "      <th>66</th>\n",
       "      <td>14</td>\n",
       "      <td>-74</td>\n",
       "      <td>1</td>\n",
       "      <td>-27</td>\n",
       "      <td>31</td>\n",
       "      <td>-19</td>\n",
       "      <td>53</td>\n",
       "      <td>-89</td>\n",
       "      <td>85</td>\n",
       "    </tr>\n",
       "    <tr>\n",
       "      <th>ha</th>\n",
       "      <td>-38</td>\n",
       "      <td>42</td>\n",
       "      <td>2</td>\n",
       "      <td>-95</td>\n",
       "      <td>88</td>\n",
       "      <td>-52</td>\n",
       "      <td>-11</td>\n",
       "      <td>-16</td>\n",
       "      <td>33</td>\n",
       "    </tr>\n",
       "    <tr>\n",
       "      <th>88</th>\n",
       "      <td>-7</td>\n",
       "      <td>7</td>\n",
       "      <td>3</td>\n",
       "      <td>-86</td>\n",
       "      <td>-16</td>\n",
       "      <td>-66</td>\n",
       "      <td>-28</td>\n",
       "      <td>-97</td>\n",
       "      <td>-38</td>\n",
       "    </tr>\n",
       "    <tr>\n",
       "      <th>hey</th>\n",
       "      <td>-51</td>\n",
       "      <td>53</td>\n",
       "      <td>4</td>\n",
       "      <td>35</td>\n",
       "      <td>-2</td>\n",
       "      <td>-74</td>\n",
       "      <td>59</td>\n",
       "      <td>81</td>\n",
       "      <td>87</td>\n",
       "    </tr>\n",
       "    <tr>\n",
       "      <th>ya</th>\n",
       "      <td>39</td>\n",
       "      <td>28</td>\n",
       "      <td>5</td>\n",
       "      <td>73</td>\n",
       "      <td>-68</td>\n",
       "      <td>8</td>\n",
       "      <td>-52</td>\n",
       "      <td>-38</td>\n",
       "      <td>25</td>\n",
       "    </tr>\n",
       "  </tbody>\n",
       "</table>\n",
       "</div>"
      ],
      "text/plain": [
       "      ddd   2  his  lalala  may  am  888  fighting  999\n",
       "good   -6   2    0     -12   56  13  -74        77   39\n",
       "66     14 -74    1     -27   31 -19   53       -89   85\n",
       "ha    -38  42    2     -95   88 -52  -11       -16   33\n",
       "88     -7   7    3     -86  -16 -66  -28       -97  -38\n",
       "hey   -51  53    4      35   -2 -74   59        81   87\n",
       "ya     39  28    5      73  -68   8  -52       -38   25"
      ]
     },
     "execution_count": 52,
     "metadata": {},
     "output_type": "execute_result"
    }
   ],
   "source": [
    "df1"
   ]
  },
  {
   "cell_type": "code",
   "execution_count": 54,
   "id": "b5355781",
   "metadata": {},
   "outputs": [
    {
     "name": "stdout",
     "output_type": "stream",
     "text": [
      "Index(['good', 66, 'ha', 88, 'hey', 'ya'], dtype='object')\n",
      "Index(['ddd', 2, 'his', 'lalala', 'may', 'am', '888', 'fighting', '999'], dtype='object')\n"
     ]
    }
   ],
   "source": [
    "print(df1.index, df1.columns, sep='\\n')"
   ]
  },
  {
   "cell_type": "code",
   "execution_count": 39,
   "id": "20ab9e87",
   "metadata": {},
   "outputs": [
    {
     "data": {
      "text/plain": [
       "-74"
      ]
     },
     "execution_count": 39,
     "metadata": {},
     "output_type": "execute_result"
    }
   ],
   "source": [
    "df1.iat[1, 1]  # integer at，即 整数 at"
   ]
  },
  {
   "cell_type": "code",
   "execution_count": 51,
   "id": "7c57ee59",
   "metadata": {},
   "outputs": [
    {
     "data": {
      "text/plain": [
       "-74"
      ]
     },
     "execution_count": 51,
     "metadata": {},
     "output_type": "execute_result"
    }
   ],
   "source": [
    "df1.at[66, 2]  # 标签 at"
   ]
  }
 ],
 "metadata": {
  "kernelspec": {
   "display_name": "Python 3 (ipykernel)",
   "language": "python",
   "name": "python3"
  },
  "language_info": {
   "codemirror_mode": {
    "name": "ipython",
    "version": 3
   },
   "file_extension": ".py",
   "mimetype": "text/x-python",
   "name": "python",
   "nbconvert_exporter": "python",
   "pygments_lexer": "ipython3",
   "version": "3.7.6"
  }
 },
 "nbformat": 4,
 "nbformat_minor": 5
}
