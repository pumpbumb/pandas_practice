{
 "cells": [
  {
   "cell_type": "code",
   "execution_count": 1,
   "id": "74b0b58a",
   "metadata": {},
   "outputs": [],
   "source": [
    "import numpy as np\n",
    "import pandas as pd"
   ]
  },
  {
   "cell_type": "markdown",
   "id": "c3e785fa",
   "metadata": {},
   "source": [
    "# Creating a MultiIndex (hierarchical index) object"
   ]
  },
  {
   "cell_type": "code",
   "execution_count": 2,
   "id": "273c94bd",
   "metadata": {},
   "outputs": [
    {
     "data": {
      "text/plain": [
       "[['bar', 'bar', 'baz', 'baz', 'foo', 'foo', 'qux', 'qux'],\n",
       " ['one', 'two', 'one', 'two', 'one', 'two', 'one', 'two']]"
      ]
     },
     "execution_count": 2,
     "metadata": {},
     "output_type": "execute_result"
    }
   ],
   "source": [
    "arrays = [\n",
    "    [\"bar\", \"bar\", \"baz\", \"baz\", \"foo\", \"foo\", \"qux\", \"qux\"],\n",
    "    [\"one\", \"two\", \"one\", \"two\", \"one\", \"two\", \"one\", \"two\"],\n",
    "]\n",
    "arrays"
   ]
  },
  {
   "cell_type": "code",
   "execution_count": 3,
   "id": "b29f0113",
   "metadata": {},
   "outputs": [
    {
     "name": "stdout",
     "output_type": "stream",
     "text": [
      "[('bar', 'one'), ('bar', 'two'), ('baz', 'one'), ('baz', 'two'), ('foo', 'one'), ('foo', 'two'), ('qux', 'one'), ('qux', 'two')]\n",
      "<class 'list'>\n"
     ]
    }
   ],
   "source": [
    "tuples = list(zip(*arrays))\n",
    "print(tuples, type(tuples), sep='\\n')"
   ]
  },
  {
   "cell_type": "code",
   "execution_count": 4,
   "id": "53529cfa",
   "metadata": {},
   "outputs": [
    {
     "data": {
      "text/plain": [
       "MultiIndex([('bar', 'one'),\n",
       "            ('bar', 'two'),\n",
       "            ('baz', 'one'),\n",
       "            ('baz', 'two'),\n",
       "            ('foo', 'one'),\n",
       "            ('foo', 'two'),\n",
       "            ('qux', 'one'),\n",
       "            ('qux', 'two')],\n",
       "           names=['first', 'second'])"
      ]
     },
     "execution_count": 4,
     "metadata": {},
     "output_type": "execute_result"
    }
   ],
   "source": [
    "index = pd.MultiIndex.from_tuples(tuples, names=[\"first\", \"second\"])  # 从元组中创建MultiIndex\n",
    "index"
   ]
  },
  {
   "cell_type": "code",
   "execution_count": 5,
   "id": "65386028",
   "metadata": {
    "scrolled": true
   },
   "outputs": [
    {
     "data": {
      "text/plain": [
       "first  second\n",
       "bar    one       7\n",
       "       two       3\n",
       "baz    one       7\n",
       "       two       5\n",
       "foo    one      -6\n",
       "       two       6\n",
       "qux    one      -4\n",
       "       two      -9\n",
       "dtype: int32"
      ]
     },
     "execution_count": 5,
     "metadata": {},
     "output_type": "execute_result"
    }
   ],
   "source": [
    "s = pd.Series(np.random.randint(-10, 10, size=8), index=index)\n",
    "s"
   ]
  },
  {
   "cell_type": "markdown",
   "id": "d63c4f48",
   "metadata": {},
   "source": [
    "![结果](https://cdn.jsdelivr.net/gh/pumpbumb/pictures/img/20220407211913.png)"
   ]
  },
  {
   "cell_type": "markdown",
   "id": "58a87141",
   "metadata": {},
   "source": [
    "---"
   ]
  },
  {
   "cell_type": "markdown",
   "id": "498b2ce6",
   "metadata": {},
   "source": [
    "# Basic indexing on axis with MultiIndex"
   ]
  },
  {
   "cell_type": "code",
   "execution_count": 6,
   "id": "9704f3b6",
   "metadata": {},
   "outputs": [
    {
     "data": {
      "text/html": [
       "<div>\n",
       "<style scoped>\n",
       "    .dataframe tbody tr th:only-of-type {\n",
       "        vertical-align: middle;\n",
       "    }\n",
       "\n",
       "    .dataframe tbody tr th {\n",
       "        vertical-align: top;\n",
       "    }\n",
       "\n",
       "    .dataframe thead tr th {\n",
       "        text-align: left;\n",
       "    }\n",
       "</style>\n",
       "<table border=\"1\" class=\"dataframe\">\n",
       "  <thead>\n",
       "    <tr>\n",
       "      <th>first</th>\n",
       "      <th colspan=\"2\" halign=\"left\">bar</th>\n",
       "      <th colspan=\"2\" halign=\"left\">baz</th>\n",
       "      <th colspan=\"2\" halign=\"left\">foo</th>\n",
       "      <th colspan=\"2\" halign=\"left\">qux</th>\n",
       "    </tr>\n",
       "    <tr>\n",
       "      <th>second</th>\n",
       "      <th>one</th>\n",
       "      <th>two</th>\n",
       "      <th>one</th>\n",
       "      <th>two</th>\n",
       "      <th>one</th>\n",
       "      <th>two</th>\n",
       "      <th>one</th>\n",
       "      <th>two</th>\n",
       "    </tr>\n",
       "  </thead>\n",
       "  <tbody>\n",
       "    <tr>\n",
       "      <th>A</th>\n",
       "      <td>0.711737</td>\n",
       "      <td>0.589683</td>\n",
       "      <td>0.590920</td>\n",
       "      <td>0.966168</td>\n",
       "      <td>-1.258487</td>\n",
       "      <td>0.422992</td>\n",
       "      <td>0.543050</td>\n",
       "      <td>-1.649523</td>\n",
       "    </tr>\n",
       "    <tr>\n",
       "      <th>B</th>\n",
       "      <td>0.983604</td>\n",
       "      <td>1.240281</td>\n",
       "      <td>0.109470</td>\n",
       "      <td>0.349078</td>\n",
       "      <td>0.610523</td>\n",
       "      <td>-1.039872</td>\n",
       "      <td>-0.192901</td>\n",
       "      <td>0.757224</td>\n",
       "    </tr>\n",
       "    <tr>\n",
       "      <th>C</th>\n",
       "      <td>-1.151463</td>\n",
       "      <td>-0.357600</td>\n",
       "      <td>0.460098</td>\n",
       "      <td>0.196811</td>\n",
       "      <td>0.428927</td>\n",
       "      <td>2.162378</td>\n",
       "      <td>-0.690727</td>\n",
       "      <td>-0.544239</td>\n",
       "    </tr>\n",
       "  </tbody>\n",
       "</table>\n",
       "</div>"
      ],
      "text/plain": [
       "first        bar                 baz                 foo                 qux  \\\n",
       "second       one       two       one       two       one       two       one   \n",
       "A       0.711737  0.589683  0.590920  0.966168 -1.258487  0.422992  0.543050   \n",
       "B       0.983604  1.240281  0.109470  0.349078  0.610523 -1.039872 -0.192901   \n",
       "C      -1.151463 -0.357600  0.460098  0.196811  0.428927  2.162378 -0.690727   \n",
       "\n",
       "first             \n",
       "second       two  \n",
       "A      -1.649523  \n",
       "B       0.757224  \n",
       "C      -0.544239  "
      ]
     },
     "execution_count": 6,
     "metadata": {},
     "output_type": "execute_result"
    }
   ],
   "source": [
    "df = pd.DataFrame(np.random.randn(3, 8), index=[\"A\", \"B\", \"C\"], columns=index)\n",
    "df"
   ]
  },
  {
   "cell_type": "code",
   "execution_count": 7,
   "id": "3eb5b059",
   "metadata": {},
   "outputs": [
    {
     "data": {
      "text/html": [
       "<div>\n",
       "<style scoped>\n",
       "    .dataframe tbody tr th:only-of-type {\n",
       "        vertical-align: middle;\n",
       "    }\n",
       "\n",
       "    .dataframe tbody tr th {\n",
       "        vertical-align: top;\n",
       "    }\n",
       "\n",
       "    .dataframe thead th {\n",
       "        text-align: right;\n",
       "    }\n",
       "</style>\n",
       "<table border=\"1\" class=\"dataframe\">\n",
       "  <thead>\n",
       "    <tr style=\"text-align: right;\">\n",
       "      <th>second</th>\n",
       "      <th>one</th>\n",
       "      <th>two</th>\n",
       "    </tr>\n",
       "  </thead>\n",
       "  <tbody>\n",
       "    <tr>\n",
       "      <th>A</th>\n",
       "      <td>0.711737</td>\n",
       "      <td>0.589683</td>\n",
       "    </tr>\n",
       "    <tr>\n",
       "      <th>B</th>\n",
       "      <td>0.983604</td>\n",
       "      <td>1.240281</td>\n",
       "    </tr>\n",
       "    <tr>\n",
       "      <th>C</th>\n",
       "      <td>-1.151463</td>\n",
       "      <td>-0.357600</td>\n",
       "    </tr>\n",
       "  </tbody>\n",
       "</table>\n",
       "</div>"
      ],
      "text/plain": [
       "second       one       two\n",
       "A       0.711737  0.589683\n",
       "B       0.983604  1.240281\n",
       "C      -1.151463 -0.357600"
      ]
     },
     "execution_count": 7,
     "metadata": {},
     "output_type": "execute_result"
    }
   ],
   "source": [
    "df['bar']"
   ]
  },
  {
   "cell_type": "code",
   "execution_count": 8,
   "id": "a9b29d4b",
   "metadata": {},
   "outputs": [
    {
     "data": {
      "text/plain": [
       "A    0.711737\n",
       "B    0.983604\n",
       "C   -1.151463\n",
       "Name: (bar, one), dtype: float64"
      ]
     },
     "execution_count": 8,
     "metadata": {},
     "output_type": "execute_result"
    }
   ],
   "source": [
    "df['bar', 'one']"
   ]
  },
  {
   "cell_type": "code",
   "execution_count": 9,
   "id": "da1ecd57",
   "metadata": {},
   "outputs": [
    {
     "data": {
      "text/plain": [
       "A    0.711737\n",
       "B    0.983604\n",
       "C   -1.151463\n",
       "Name: one, dtype: float64"
      ]
     },
     "execution_count": 9,
     "metadata": {},
     "output_type": "execute_result"
    }
   ],
   "source": [
    "df['bar']['one']"
   ]
  },
  {
   "cell_type": "code",
   "execution_count": 10,
   "id": "6a684b2e",
   "metadata": {},
   "outputs": [
    {
     "data": {
      "text/plain": [
       "FrozenList([['bar', 'baz', 'foo', 'qux'], ['one', 'two']])"
      ]
     },
     "execution_count": 10,
     "metadata": {},
     "output_type": "execute_result"
    }
   ],
   "source": [
    "df.columns.levels"
   ]
  },
  {
   "cell_type": "code",
   "execution_count": 11,
   "id": "4bc5ab8b",
   "metadata": {},
   "outputs": [
    {
     "data": {
      "text/plain": [
       "Index(['foo', 'foo', 'qux', 'qux'], dtype='object', name='first')"
      ]
     },
     "execution_count": 11,
     "metadata": {},
     "output_type": "execute_result"
    }
   ],
   "source": [
    "df[[\"foo\", \"qux\"]].columns.get_level_values(0)"
   ]
  },
  {
   "cell_type": "code",
   "execution_count": 12,
   "id": "23a45b49",
   "metadata": {},
   "outputs": [
    {
     "data": {
      "text/plain": [
       "Index(['one', 'two', 'one', 'two'], dtype='object', name='second')"
      ]
     },
     "execution_count": 12,
     "metadata": {},
     "output_type": "execute_result"
    }
   ],
   "source": [
    "df[[\"foo\", \"qux\"]].columns.get_level_values(1)"
   ]
  },
  {
   "cell_type": "markdown",
   "id": "637d4a09",
   "metadata": {},
   "source": [
    "# Data alignment and using `reindex`"
   ]
  },
  {
   "cell_type": "markdown",
   "id": "e306253f",
   "metadata": {},
   "source": [
    "Operations between differently-indexed objects having MultiIndex on the axes will work as you expect; data alignment will work the same as an Index of tuples:"
   ]
  },
  {
   "cell_type": "code",
   "execution_count": 13,
   "id": "024b24a4",
   "metadata": {},
   "outputs": [
    {
     "data": {
      "text/plain": [
       "bar  one   -1.266242\n",
       "     two   -1.296507\n",
       "baz  one   -0.748485\n",
       "     two   -2.340093\n",
       "foo  one   -0.403013\n",
       "     two   -0.088235\n",
       "qux  one   -0.608905\n",
       "     two    2.741266\n",
       "dtype: float64"
      ]
     },
     "execution_count": 13,
     "metadata": {},
     "output_type": "execute_result"
    }
   ],
   "source": [
    "arrays = [\n",
    "    np.array([\"bar\", \"bar\", \"baz\", \"baz\", \"foo\", \"foo\", \"qux\", \"qux\"]),\n",
    "    np.array([\"one\", \"two\", \"one\", \"two\", \"one\", \"two\", \"one\", \"two\"]),\n",
    "]\n",
    "\n",
    "s = pd.Series(np.random.randn(8), index=arrays)\n",
    "s"
   ]
  },
  {
   "cell_type": "code",
   "execution_count": 14,
   "id": "b5f065f2",
   "metadata": {},
   "outputs": [
    {
     "data": {
      "text/plain": [
       "bar  one   -1.266242\n",
       "     two   -1.296507\n",
       "baz  one   -0.748485\n",
       "     two   -2.340093\n",
       "foo  one   -0.403013\n",
       "     two   -0.088235\n",
       "dtype: float64"
      ]
     },
     "execution_count": 14,
     "metadata": {},
     "output_type": "execute_result"
    }
   ],
   "source": [
    "s[:-2]"
   ]
  },
  {
   "cell_type": "code",
   "execution_count": 16,
   "id": "ffee8f46",
   "metadata": {},
   "outputs": [
    {
     "data": {
      "text/plain": [
       "bar  one   -2.532484\n",
       "     two   -2.593014\n",
       "baz  one   -1.496971\n",
       "     two   -4.680185\n",
       "foo  one   -0.806026\n",
       "     two   -0.176471\n",
       "qux  one         NaN\n",
       "     two         NaN\n",
       "dtype: float64"
      ]
     },
     "execution_count": 16,
     "metadata": {},
     "output_type": "execute_result"
    }
   ],
   "source": [
    "s + s[:-2]"
   ]
  },
  {
   "cell_type": "code",
   "execution_count": 17,
   "id": "6a0deb59",
   "metadata": {},
   "outputs": [
    {
     "data": {
      "text/plain": [
       "bar  one   -2.532484\n",
       "     two         NaN\n",
       "baz  one   -1.496971\n",
       "     two         NaN\n",
       "foo  one   -0.806026\n",
       "     two         NaN\n",
       "qux  one   -1.217810\n",
       "     two         NaN\n",
       "dtype: float64"
      ]
     },
     "execution_count": 17,
     "metadata": {},
     "output_type": "execute_result"
    }
   ],
   "source": [
    "s+s[::2]"
   ]
  },
  {
   "cell_type": "markdown",
   "id": "56f8329a",
   "metadata": {},
   "source": [
    "### The reindex() method of Series/DataFrames can be called with another MultiIndex, or even a list or array of tuples:"
   ]
  },
  {
   "cell_type": "code",
   "execution_count": 20,
   "id": "09ed7392",
   "metadata": {},
   "outputs": [
    {
     "data": {
      "text/plain": [
       "MultiIndex([('bar', 'one'),\n",
       "            ('bar', 'two'),\n",
       "            ('baz', 'one'),\n",
       "            ('baz', 'two'),\n",
       "            ('foo', 'one'),\n",
       "            ('foo', 'two'),\n",
       "            ('qux', 'one'),\n",
       "            ('qux', 'two')],\n",
       "           names=['first', 'second'])"
      ]
     },
     "execution_count": 20,
     "metadata": {},
     "output_type": "execute_result"
    }
   ],
   "source": [
    "index"
   ]
  },
  {
   "cell_type": "code",
   "execution_count": 24,
   "id": "560c6a05",
   "metadata": {},
   "outputs": [
    {
     "data": {
      "text/plain": [
       "first  second\n",
       "bar    one      -1.266242\n",
       "       two      -1.296507\n",
       "baz    one      -0.748485\n",
       "       two      -2.340093\n",
       "dtype: float64"
      ]
     },
     "execution_count": 24,
     "metadata": {},
     "output_type": "execute_result"
    }
   ],
   "source": [
    "s.reindex(index[:4])"
   ]
  },
  {
   "cell_type": "code",
   "execution_count": 19,
   "id": "32434201",
   "metadata": {},
   "outputs": [
    {
     "data": {
      "text/plain": [
       "foo  two   -0.088235\n",
       "bar  one   -1.266242\n",
       "qux  one   -0.608905\n",
       "baz  one   -0.748485\n",
       "dtype: float64"
      ]
     },
     "execution_count": 19,
     "metadata": {},
     "output_type": "execute_result"
    }
   ],
   "source": [
    "s.reindex([(\"foo\", \"two\"), (\"bar\", \"one\"), (\"qux\", \"one\"), (\"baz\", \"one\")])"
   ]
  },
  {
   "cell_type": "code",
   "execution_count": 26,
   "id": "6f4ace76",
   "metadata": {},
   "outputs": [
    {
     "data": {
      "text/plain": [
       "foo  two   -0.088235\n",
       "bar  one   -1.266242\n",
       "qux  one   -0.608905\n",
       "baz  one   -0.748485\n",
       "dtype: float64"
      ]
     },
     "execution_count": 26,
     "metadata": {},
     "output_type": "execute_result"
    }
   ],
   "source": [
    "s.reindex(np.array([(\"foo\", \"two\"), (\"bar\", \"one\"), (\"qux\", \"one\"), (\"baz\", \"one\")]))"
   ]
  },
  {
   "cell_type": "markdown",
   "id": "709e55df",
   "metadata": {},
   "source": [
    "# Advanced indexing with hierarchical index"
   ]
  },
  {
   "cell_type": "markdown",
   "id": "b697467d",
   "metadata": {},
   "source": [
    "Syntactically integrating MultiIndex in advanced indexing with .loc is a bit challenging, but we’ve made every effort to do so. In general, MultiIndex keys take the form of tuples. For example, the following works as you would expect:"
   ]
  },
  {
   "cell_type": "code",
   "execution_count": 33,
   "id": "950ee83c",
   "metadata": {},
   "outputs": [
    {
     "data": {
      "text/html": [
       "<div>\n",
       "<style scoped>\n",
       "    .dataframe tbody tr th:only-of-type {\n",
       "        vertical-align: middle;\n",
       "    }\n",
       "\n",
       "    .dataframe tbody tr th {\n",
       "        vertical-align: top;\n",
       "    }\n",
       "\n",
       "    .dataframe thead tr th {\n",
       "        text-align: left;\n",
       "    }\n",
       "</style>\n",
       "<table border=\"1\" class=\"dataframe\">\n",
       "  <thead>\n",
       "    <tr>\n",
       "      <th>first</th>\n",
       "      <th colspan=\"2\" halign=\"left\">bar</th>\n",
       "      <th colspan=\"2\" halign=\"left\">baz</th>\n",
       "      <th colspan=\"2\" halign=\"left\">foo</th>\n",
       "      <th colspan=\"2\" halign=\"left\">qux</th>\n",
       "    </tr>\n",
       "    <tr>\n",
       "      <th>second</th>\n",
       "      <th>one</th>\n",
       "      <th>two</th>\n",
       "      <th>one</th>\n",
       "      <th>two</th>\n",
       "      <th>one</th>\n",
       "      <th>two</th>\n",
       "      <th>one</th>\n",
       "      <th>two</th>\n",
       "    </tr>\n",
       "  </thead>\n",
       "  <tbody>\n",
       "    <tr>\n",
       "      <th>A</th>\n",
       "      <td>0.711737</td>\n",
       "      <td>0.589683</td>\n",
       "      <td>0.590920</td>\n",
       "      <td>0.966168</td>\n",
       "      <td>-1.258487</td>\n",
       "      <td>0.422992</td>\n",
       "      <td>0.543050</td>\n",
       "      <td>-1.649523</td>\n",
       "    </tr>\n",
       "    <tr>\n",
       "      <th>B</th>\n",
       "      <td>0.983604</td>\n",
       "      <td>1.240281</td>\n",
       "      <td>0.109470</td>\n",
       "      <td>0.349078</td>\n",
       "      <td>0.610523</td>\n",
       "      <td>-1.039872</td>\n",
       "      <td>-0.192901</td>\n",
       "      <td>0.757224</td>\n",
       "    </tr>\n",
       "    <tr>\n",
       "      <th>C</th>\n",
       "      <td>-1.151463</td>\n",
       "      <td>-0.357600</td>\n",
       "      <td>0.460098</td>\n",
       "      <td>0.196811</td>\n",
       "      <td>0.428927</td>\n",
       "      <td>2.162378</td>\n",
       "      <td>-0.690727</td>\n",
       "      <td>-0.544239</td>\n",
       "    </tr>\n",
       "  </tbody>\n",
       "</table>\n",
       "</div>"
      ],
      "text/plain": [
       "first        bar                 baz                 foo                 qux  \\\n",
       "second       one       two       one       two       one       two       one   \n",
       "A       0.711737  0.589683  0.590920  0.966168 -1.258487  0.422992  0.543050   \n",
       "B       0.983604  1.240281  0.109470  0.349078  0.610523 -1.039872 -0.192901   \n",
       "C      -1.151463 -0.357600  0.460098  0.196811  0.428927  2.162378 -0.690727   \n",
       "\n",
       "first             \n",
       "second       two  \n",
       "A      -1.649523  \n",
       "B       0.757224  \n",
       "C      -0.544239  "
      ]
     },
     "execution_count": 33,
     "metadata": {},
     "output_type": "execute_result"
    }
   ],
   "source": [
    "df "
   ]
  },
  {
   "cell_type": "code",
   "execution_count": 37,
   "id": "31cbed80",
   "metadata": {},
   "outputs": [
    {
     "data": {
      "text/html": [
       "<div>\n",
       "<style scoped>\n",
       "    .dataframe tbody tr th:only-of-type {\n",
       "        vertical-align: middle;\n",
       "    }\n",
       "\n",
       "    .dataframe tbody tr th {\n",
       "        vertical-align: top;\n",
       "    }\n",
       "\n",
       "    .dataframe thead th {\n",
       "        text-align: right;\n",
       "    }\n",
       "</style>\n",
       "<table border=\"1\" class=\"dataframe\">\n",
       "  <thead>\n",
       "    <tr style=\"text-align: right;\">\n",
       "      <th></th>\n",
       "      <th></th>\n",
       "      <th>A</th>\n",
       "      <th>B</th>\n",
       "      <th>C</th>\n",
       "    </tr>\n",
       "    <tr>\n",
       "      <th>first</th>\n",
       "      <th>second</th>\n",
       "      <th></th>\n",
       "      <th></th>\n",
       "      <th></th>\n",
       "    </tr>\n",
       "  </thead>\n",
       "  <tbody>\n",
       "    <tr>\n",
       "      <th rowspan=\"2\" valign=\"top\">bar</th>\n",
       "      <th>one</th>\n",
       "      <td>0.711737</td>\n",
       "      <td>0.983604</td>\n",
       "      <td>-1.151463</td>\n",
       "    </tr>\n",
       "    <tr>\n",
       "      <th>two</th>\n",
       "      <td>0.589683</td>\n",
       "      <td>1.240281</td>\n",
       "      <td>-0.357600</td>\n",
       "    </tr>\n",
       "    <tr>\n",
       "      <th rowspan=\"2\" valign=\"top\">baz</th>\n",
       "      <th>one</th>\n",
       "      <td>0.590920</td>\n",
       "      <td>0.109470</td>\n",
       "      <td>0.460098</td>\n",
       "    </tr>\n",
       "    <tr>\n",
       "      <th>two</th>\n",
       "      <td>0.966168</td>\n",
       "      <td>0.349078</td>\n",
       "      <td>0.196811</td>\n",
       "    </tr>\n",
       "    <tr>\n",
       "      <th rowspan=\"2\" valign=\"top\">foo</th>\n",
       "      <th>one</th>\n",
       "      <td>-1.258487</td>\n",
       "      <td>0.610523</td>\n",
       "      <td>0.428927</td>\n",
       "    </tr>\n",
       "    <tr>\n",
       "      <th>two</th>\n",
       "      <td>0.422992</td>\n",
       "      <td>-1.039872</td>\n",
       "      <td>2.162378</td>\n",
       "    </tr>\n",
       "    <tr>\n",
       "      <th rowspan=\"2\" valign=\"top\">qux</th>\n",
       "      <th>one</th>\n",
       "      <td>0.543050</td>\n",
       "      <td>-0.192901</td>\n",
       "      <td>-0.690727</td>\n",
       "    </tr>\n",
       "    <tr>\n",
       "      <th>two</th>\n",
       "      <td>-1.649523</td>\n",
       "      <td>0.757224</td>\n",
       "      <td>-0.544239</td>\n",
       "    </tr>\n",
       "  </tbody>\n",
       "</table>\n",
       "</div>"
      ],
      "text/plain": [
       "                     A         B         C\n",
       "first second                              \n",
       "bar   one     0.711737  0.983604 -1.151463\n",
       "      two     0.589683  1.240281 -0.357600\n",
       "baz   one     0.590920  0.109470  0.460098\n",
       "      two     0.966168  0.349078  0.196811\n",
       "foo   one    -1.258487  0.610523  0.428927\n",
       "      two     0.422992 -1.039872  2.162378\n",
       "qux   one     0.543050 -0.192901 -0.690727\n",
       "      two    -1.649523  0.757224 -0.544239"
      ]
     },
     "execution_count": 37,
     "metadata": {},
     "output_type": "execute_result"
    }
   ],
   "source": [
    "df1 = df.T\n",
    "df1"
   ]
  },
  {
   "cell_type": "code",
   "execution_count": 42,
   "id": "d1f9ce81",
   "metadata": {},
   "outputs": [
    {
     "data": {
      "text/plain": [
       "A    0.589683\n",
       "B    1.240281\n",
       "C   -0.357600\n",
       "Name: (bar, two), dtype: float64"
      ]
     },
     "execution_count": 42,
     "metadata": {},
     "output_type": "execute_result"
    }
   ],
   "source": [
    "df1.loc[(\"bar\", \"two\")]   # 返回的是Series，它的 name 为 (bar, two)，这是 valid，因为name属性本就可以是 tuple"
   ]
  },
  {
   "cell_type": "code",
   "execution_count": 43,
   "id": "31fff01c",
   "metadata": {},
   "outputs": [
    {
     "name": "stdout",
     "output_type": "stream",
     "text": [
      "<class 'pandas.core.series.Series'>\n"
     ]
    }
   ],
   "source": [
    "print(type(df1.loc[(\"bar\", \"two\")]))"
   ]
  },
  {
   "cell_type": "code",
   "execution_count": 60,
   "id": "9639d002",
   "metadata": {},
   "outputs": [
    {
     "data": {
      "text/plain": [
       "0.5896826211307166"
      ]
     },
     "execution_count": 60,
     "metadata": {},
     "output_type": "execute_result"
    }
   ],
   "source": [
    "df1.loc[('bar', 'two'), 'A']  # 具体到某一个元素"
   ]
  },
  {
   "cell_type": "code",
   "execution_count": 47,
   "id": "f7655d1b",
   "metadata": {},
   "outputs": [
    {
     "data": {
      "text/html": [
       "<div>\n",
       "<style scoped>\n",
       "    .dataframe tbody tr th:only-of-type {\n",
       "        vertical-align: middle;\n",
       "    }\n",
       "\n",
       "    .dataframe tbody tr th {\n",
       "        vertical-align: top;\n",
       "    }\n",
       "\n",
       "    .dataframe thead th {\n",
       "        text-align: right;\n",
       "    }\n",
       "</style>\n",
       "<table border=\"1\" class=\"dataframe\">\n",
       "  <thead>\n",
       "    <tr style=\"text-align: right;\">\n",
       "      <th></th>\n",
       "      <th>A</th>\n",
       "      <th>B</th>\n",
       "      <th>C</th>\n",
       "    </tr>\n",
       "    <tr>\n",
       "      <th>second</th>\n",
       "      <th></th>\n",
       "      <th></th>\n",
       "      <th></th>\n",
       "    </tr>\n",
       "  </thead>\n",
       "  <tbody>\n",
       "    <tr>\n",
       "      <th>one</th>\n",
       "      <td>0.711737</td>\n",
       "      <td>0.983604</td>\n",
       "      <td>-1.151463</td>\n",
       "    </tr>\n",
       "    <tr>\n",
       "      <th>two</th>\n",
       "      <td>0.589683</td>\n",
       "      <td>1.240281</td>\n",
       "      <td>-0.357600</td>\n",
       "    </tr>\n",
       "  </tbody>\n",
       "</table>\n",
       "</div>"
      ],
      "text/plain": [
       "               A         B         C\n",
       "second                              \n",
       "one     0.711737  0.983604 -1.151463\n",
       "two     0.589683  1.240281 -0.357600"
      ]
     },
     "execution_count": 47,
     "metadata": {},
     "output_type": "execute_result"
    }
   ],
   "source": [
    "# you can use “partial” indexing to get all elements with `bar` in the first level as follows:\n",
    "df1.loc['bar']"
   ]
  },
  {
   "cell_type": "code",
   "execution_count": 49,
   "id": "2419cd66",
   "metadata": {},
   "outputs": [
    {
     "name": "stdout",
     "output_type": "stream",
     "text": [
      "Index(['one', 'two'], dtype='object', name='second')\n"
     ]
    }
   ],
   "source": [
    "print(df1.loc['bar'].index)"
   ]
  },
  {
   "cell_type": "code",
   "execution_count": 50,
   "id": "4bc3158d",
   "metadata": {},
   "outputs": [
    {
     "data": {
      "text/html": [
       "<div>\n",
       "<style scoped>\n",
       "    .dataframe tbody tr th:only-of-type {\n",
       "        vertical-align: middle;\n",
       "    }\n",
       "\n",
       "    .dataframe tbody tr th {\n",
       "        vertical-align: top;\n",
       "    }\n",
       "\n",
       "    .dataframe thead th {\n",
       "        text-align: right;\n",
       "    }\n",
       "</style>\n",
       "<table border=\"1\" class=\"dataframe\">\n",
       "  <thead>\n",
       "    <tr style=\"text-align: right;\">\n",
       "      <th></th>\n",
       "      <th></th>\n",
       "      <th>A</th>\n",
       "      <th>B</th>\n",
       "      <th>C</th>\n",
       "    </tr>\n",
       "    <tr>\n",
       "      <th>first</th>\n",
       "      <th>second</th>\n",
       "      <th></th>\n",
       "      <th></th>\n",
       "      <th></th>\n",
       "    </tr>\n",
       "  </thead>\n",
       "  <tbody>\n",
       "    <tr>\n",
       "      <th rowspan=\"2\" valign=\"top\">bar</th>\n",
       "      <th>one</th>\n",
       "      <td>0.711737</td>\n",
       "      <td>0.983604</td>\n",
       "      <td>-1.151463</td>\n",
       "    </tr>\n",
       "    <tr>\n",
       "      <th>two</th>\n",
       "      <td>0.589683</td>\n",
       "      <td>1.240281</td>\n",
       "      <td>-0.357600</td>\n",
       "    </tr>\n",
       "    <tr>\n",
       "      <th rowspan=\"2\" valign=\"top\">baz</th>\n",
       "      <th>one</th>\n",
       "      <td>0.590920</td>\n",
       "      <td>0.109470</td>\n",
       "      <td>0.460098</td>\n",
       "    </tr>\n",
       "    <tr>\n",
       "      <th>two</th>\n",
       "      <td>0.966168</td>\n",
       "      <td>0.349078</td>\n",
       "      <td>0.196811</td>\n",
       "    </tr>\n",
       "    <tr>\n",
       "      <th rowspan=\"2\" valign=\"top\">foo</th>\n",
       "      <th>one</th>\n",
       "      <td>-1.258487</td>\n",
       "      <td>0.610523</td>\n",
       "      <td>0.428927</td>\n",
       "    </tr>\n",
       "    <tr>\n",
       "      <th>two</th>\n",
       "      <td>0.422992</td>\n",
       "      <td>-1.039872</td>\n",
       "      <td>2.162378</td>\n",
       "    </tr>\n",
       "  </tbody>\n",
       "</table>\n",
       "</div>"
      ],
      "text/plain": [
       "                     A         B         C\n",
       "first second                              \n",
       "bar   one     0.711737  0.983604 -1.151463\n",
       "      two     0.589683  1.240281 -0.357600\n",
       "baz   one     0.590920  0.109470  0.460098\n",
       "      two     0.966168  0.349078  0.196811\n",
       "foo   one    -1.258487  0.610523  0.428927\n",
       "      two     0.422992 -1.039872  2.162378"
      ]
     },
     "execution_count": 50,
     "metadata": {},
     "output_type": "execute_result"
    }
   ],
   "source": [
    "# “Partial” slicing also works quite nicely.\n",
    "df1.loc['bar':'foo']"
   ]
  },
  {
   "cell_type": "code",
   "execution_count": 52,
   "id": "d5a53acc",
   "metadata": {},
   "outputs": [
    {
     "data": {
      "text/html": [
       "<div>\n",
       "<style scoped>\n",
       "    .dataframe tbody tr th:only-of-type {\n",
       "        vertical-align: middle;\n",
       "    }\n",
       "\n",
       "    .dataframe tbody tr th {\n",
       "        vertical-align: top;\n",
       "    }\n",
       "\n",
       "    .dataframe thead th {\n",
       "        text-align: right;\n",
       "    }\n",
       "</style>\n",
       "<table border=\"1\" class=\"dataframe\">\n",
       "  <thead>\n",
       "    <tr style=\"text-align: right;\">\n",
       "      <th></th>\n",
       "      <th></th>\n",
       "      <th>A</th>\n",
       "      <th>B</th>\n",
       "      <th>C</th>\n",
       "    </tr>\n",
       "    <tr>\n",
       "      <th>first</th>\n",
       "      <th>second</th>\n",
       "      <th></th>\n",
       "      <th></th>\n",
       "      <th></th>\n",
       "    </tr>\n",
       "  </thead>\n",
       "  <tbody>\n",
       "    <tr>\n",
       "      <th>baz</th>\n",
       "      <th>two</th>\n",
       "      <td>0.966168</td>\n",
       "      <td>0.349078</td>\n",
       "      <td>0.196811</td>\n",
       "    </tr>\n",
       "    <tr>\n",
       "      <th rowspan=\"2\" valign=\"top\">foo</th>\n",
       "      <th>one</th>\n",
       "      <td>-1.258487</td>\n",
       "      <td>0.610523</td>\n",
       "      <td>0.428927</td>\n",
       "    </tr>\n",
       "    <tr>\n",
       "      <th>two</th>\n",
       "      <td>0.422992</td>\n",
       "      <td>-1.039872</td>\n",
       "      <td>2.162378</td>\n",
       "    </tr>\n",
       "    <tr>\n",
       "      <th>qux</th>\n",
       "      <th>one</th>\n",
       "      <td>0.543050</td>\n",
       "      <td>-0.192901</td>\n",
       "      <td>-0.690727</td>\n",
       "    </tr>\n",
       "  </tbody>\n",
       "</table>\n",
       "</div>"
      ],
      "text/plain": [
       "                     A         B         C\n",
       "first second                              \n",
       "baz   two     0.966168  0.349078  0.196811\n",
       "foo   one    -1.258487  0.610523  0.428927\n",
       "      two     0.422992 -1.039872  2.162378\n",
       "qux   one     0.543050 -0.192901 -0.690727"
      ]
     },
     "execution_count": 52,
     "metadata": {},
     "output_type": "execute_result"
    }
   ],
   "source": [
    "# You can slice with a ‘range’ of values, by providing a slice of tuples.\n",
    "df1.loc[(\"baz\", \"two\"):(\"qux\", \"one\")]  # 注意是冒号！"
   ]
  },
  {
   "cell_type": "code",
   "execution_count": 53,
   "id": "b68f3ff2",
   "metadata": {},
   "outputs": [
    {
     "data": {
      "text/html": [
       "<div>\n",
       "<style scoped>\n",
       "    .dataframe tbody tr th:only-of-type {\n",
       "        vertical-align: middle;\n",
       "    }\n",
       "\n",
       "    .dataframe tbody tr th {\n",
       "        vertical-align: top;\n",
       "    }\n",
       "\n",
       "    .dataframe thead th {\n",
       "        text-align: right;\n",
       "    }\n",
       "</style>\n",
       "<table border=\"1\" class=\"dataframe\">\n",
       "  <thead>\n",
       "    <tr style=\"text-align: right;\">\n",
       "      <th></th>\n",
       "      <th></th>\n",
       "      <th>A</th>\n",
       "      <th>B</th>\n",
       "      <th>C</th>\n",
       "    </tr>\n",
       "    <tr>\n",
       "      <th>first</th>\n",
       "      <th>second</th>\n",
       "      <th></th>\n",
       "      <th></th>\n",
       "      <th></th>\n",
       "    </tr>\n",
       "  </thead>\n",
       "  <tbody>\n",
       "    <tr>\n",
       "      <th>baz</th>\n",
       "      <th>two</th>\n",
       "      <td>0.966168</td>\n",
       "      <td>0.349078</td>\n",
       "      <td>0.196811</td>\n",
       "    </tr>\n",
       "    <tr>\n",
       "      <th rowspan=\"2\" valign=\"top\">foo</th>\n",
       "      <th>one</th>\n",
       "      <td>-1.258487</td>\n",
       "      <td>0.610523</td>\n",
       "      <td>0.428927</td>\n",
       "    </tr>\n",
       "    <tr>\n",
       "      <th>two</th>\n",
       "      <td>0.422992</td>\n",
       "      <td>-1.039872</td>\n",
       "      <td>2.162378</td>\n",
       "    </tr>\n",
       "  </tbody>\n",
       "</table>\n",
       "</div>"
      ],
      "text/plain": [
       "                     A         B         C\n",
       "first second                              \n",
       "baz   two     0.966168  0.349078  0.196811\n",
       "foo   one    -1.258487  0.610523  0.428927\n",
       "      two     0.422992 -1.039872  2.162378"
      ]
     },
     "execution_count": 53,
     "metadata": {},
     "output_type": "execute_result"
    }
   ],
   "source": [
    "df1.loc[(\"baz\", \"two\"):\"foo\"]  # 可以缺省"
   ]
  },
  {
   "cell_type": "code",
   "execution_count": 57,
   "id": "314f5f05",
   "metadata": {},
   "outputs": [
    {
     "data": {
      "text/html": [
       "<div>\n",
       "<style scoped>\n",
       "    .dataframe tbody tr th:only-of-type {\n",
       "        vertical-align: middle;\n",
       "    }\n",
       "\n",
       "    .dataframe tbody tr th {\n",
       "        vertical-align: top;\n",
       "    }\n",
       "\n",
       "    .dataframe thead th {\n",
       "        text-align: right;\n",
       "    }\n",
       "</style>\n",
       "<table border=\"1\" class=\"dataframe\">\n",
       "  <thead>\n",
       "    <tr style=\"text-align: right;\">\n",
       "      <th></th>\n",
       "      <th></th>\n",
       "      <th>A</th>\n",
       "      <th>B</th>\n",
       "      <th>C</th>\n",
       "    </tr>\n",
       "    <tr>\n",
       "      <th>first</th>\n",
       "      <th>second</th>\n",
       "      <th></th>\n",
       "      <th></th>\n",
       "      <th></th>\n",
       "    </tr>\n",
       "  </thead>\n",
       "  <tbody>\n",
       "    <tr>\n",
       "      <th>bar</th>\n",
       "      <th>two</th>\n",
       "      <td>0.589683</td>\n",
       "      <td>1.240281</td>\n",
       "      <td>-0.357600</td>\n",
       "    </tr>\n",
       "    <tr>\n",
       "      <th>qux</th>\n",
       "      <th>one</th>\n",
       "      <td>0.543050</td>\n",
       "      <td>-0.192901</td>\n",
       "      <td>-0.690727</td>\n",
       "    </tr>\n",
       "  </tbody>\n",
       "</table>\n",
       "</div>"
      ],
      "text/plain": [
       "                     A         B         C\n",
       "first second                              \n",
       "bar   two     0.589683  1.240281 -0.357600\n",
       "qux   one     0.543050 -0.192901 -0.690727"
      ]
     },
     "execution_count": 57,
     "metadata": {},
     "output_type": "execute_result"
    }
   ],
   "source": [
    "# Passing a list of labels or tuples works similar to reindexing:\n",
    "df1.loc[[(\"bar\", \"two\"), (\"qux\", \"one\")]]"
   ]
  },
  {
   "cell_type": "code",
   "execution_count": 61,
   "id": "63984362",
   "metadata": {},
   "outputs": [
    {
     "data": {
      "text/plain": [
       "A  c    1\n",
       "   d    2\n",
       "   e    3\n",
       "B  c    4\n",
       "   d    5\n",
       "   e    6\n",
       "dtype: int64"
      ]
     },
     "execution_count": 61,
     "metadata": {},
     "output_type": "execute_result"
    }
   ],
   "source": [
    "s = pd.Series(\n",
    "    [1, 2, 3, 4, 5, 6],\n",
    "    index=pd.MultiIndex.from_product([[\"A\", \"B\"], [\"c\", \"d\", \"e\"]]),\n",
    ")\n",
    "s"
   ]
  },
  {
   "cell_type": "markdown",
   "id": "e8383a34",
   "metadata": {},
   "source": [
    "### Importantly, a list of tuples indexes several complete MultiIndex keys, whereas a tuple of lists refer to several values within a level:"
   ]
  },
  {
   "cell_type": "code",
   "execution_count": 65,
   "id": "eeef60e4",
   "metadata": {
    "scrolled": true
   },
   "outputs": [
    {
     "data": {
      "text/plain": [
       "A  c    1\n",
       "B  d    5\n",
       "dtype: int64"
      ]
     },
     "execution_count": 65,
     "metadata": {},
     "output_type": "execute_result"
    }
   ],
   "source": [
    "s.loc[[(\"A\", \"c\"), (\"B\", \"d\")]]  # list of tuples"
   ]
  },
  {
   "cell_type": "code",
   "execution_count": 66,
   "id": "6cf77fb1",
   "metadata": {},
   "outputs": [
    {
     "data": {
      "text/plain": [
       "A  c    1\n",
       "   d    2\n",
       "B  c    4\n",
       "   d    5\n",
       "dtype: int64"
      ]
     },
     "execution_count": 66,
     "metadata": {},
     "output_type": "execute_result"
    }
   ],
   "source": [
    "s.loc[([\"A\", \"B\"], [\"c\", \"d\"])]  # tuple of lists"
   ]
  },
  {
   "cell_type": "markdown",
   "id": "7f5f68b2",
   "metadata": {},
   "source": [
    "# Using slicers 使用切片器\n",
    ">这部分往后内容都比较难，需要深度思考和实践！"
   ]
  },
  {
   "cell_type": "code",
   "execution_count": null,
   "id": "4f484b24",
   "metadata": {},
   "outputs": [],
   "source": []
  }
 ],
 "metadata": {
  "kernelspec": {
   "display_name": "Python 3 (ipykernel)",
   "language": "python",
   "name": "python3"
  },
  "language_info": {
   "codemirror_mode": {
    "name": "ipython",
    "version": 3
   },
   "file_extension": ".py",
   "mimetype": "text/x-python",
   "name": "python",
   "nbconvert_exporter": "python",
   "pygments_lexer": "ipython3",
   "version": "3.7.6"
  }
 },
 "nbformat": 4,
 "nbformat_minor": 5
}
