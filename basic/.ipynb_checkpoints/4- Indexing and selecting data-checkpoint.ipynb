{
 "cells": [
  {
   "cell_type": "markdown",
   "id": "faf60382",
   "metadata": {},
   "source": [
    " # attribute access\n",
    " You may access an `index on a Series` or `column on a DataFrame` directly as an attribute:"
   ]
  },
  {
   "cell_type": "code",
   "execution_count": 19,
   "id": "7b6df76d",
   "metadata": {},
   "outputs": [],
   "source": [
    "import numpy as np\n",
    "import pandas as pd"
   ]
  },
  {
   "cell_type": "markdown",
   "id": "5f42ee2d",
   "metadata": {},
   "source": [
    "### 对于 Series"
   ]
  },
  {
   "cell_type": "code",
   "execution_count": 20,
   "id": "d85fdf19",
   "metadata": {},
   "outputs": [
    {
     "data": {
      "text/plain": [
       "2           3\n",
       "you       NaN\n",
       "8      hahaha\n",
       "dtype: object"
      ]
     },
     "execution_count": 20,
     "metadata": {},
     "output_type": "execute_result"
    }
   ],
   "source": [
    "s1 = pd.Series(['3', np.nan, 'hahaha'], index=list((2, 'you', '8')))  # list 接受一个可迭代对象，将其转换为列表\n",
    "s1"
   ]
  },
  {
   "cell_type": "code",
   "execution_count": 21,
   "id": "ea5f98a2",
   "metadata": {},
   "outputs": [
    {
     "data": {
      "text/plain": [
       "nan"
      ]
     },
     "execution_count": 21,
     "metadata": {},
     "output_type": "execute_result"
    }
   ],
   "source": [
    "s1.you  # 索引"
   ]
  },
  {
   "cell_type": "code",
   "execution_count": 22,
   "id": "c1b9536b",
   "metadata": {},
   "outputs": [],
   "source": [
    "s1.you = 666  # 修改值"
   ]
  },
  {
   "cell_type": "code",
   "execution_count": 23,
   "id": "d73182e2",
   "metadata": {},
   "outputs": [
    {
     "data": {
      "text/plain": [
       "2           3\n",
       "you       666\n",
       "8      hahaha\n",
       "dtype: object"
      ]
     },
     "execution_count": 23,
     "metadata": {},
     "output_type": "execute_result"
    }
   ],
   "source": [
    "s1"
   ]
  },
  {
   "cell_type": "code",
   "execution_count": 24,
   "id": "5faeeee5",
   "metadata": {},
   "outputs": [
    {
     "ename": "SyntaxError",
     "evalue": "invalid syntax (Temp/ipykernel_26688/3150021494.py, line 2)",
     "output_type": "error",
     "traceback": [
      "\u001b[1;36m  File \u001b[1;32m\"C:\\Users\\蔡鑫\\AppData\\Local\\Temp/ipykernel_26688/3150021494.py\"\u001b[1;36m, line \u001b[1;32m2\u001b[0m\n\u001b[1;33m    s1.8\u001b[0m\n\u001b[1;37m       ^\u001b[0m\n\u001b[1;31mSyntaxError\u001b[0m\u001b[1;31m:\u001b[0m invalid syntax\n"
     ]
    }
   ],
   "source": [
    "# 只有当索引元素是一个有效的Python标识符时，你才能使用这种访问，例如，s1.2、s1.8是不允许的。\n",
    "s1.8"
   ]
  },
  {
   "cell_type": "code",
   "execution_count": 25,
   "id": "77f27314",
   "metadata": {},
   "outputs": [
    {
     "ename": "SyntaxError",
     "evalue": "invalid syntax (Temp/ipykernel_26688/2775352423.py, line 1)",
     "output_type": "error",
     "traceback": [
      "\u001b[1;36m  File \u001b[1;32m\"C:\\Users\\蔡鑫\\AppData\\Local\\Temp/ipykernel_26688/2775352423.py\"\u001b[1;36m, line \u001b[1;32m1\u001b[0m\n\u001b[1;33m    s1.2\u001b[0m\n\u001b[1;37m       ^\u001b[0m\n\u001b[1;31mSyntaxError\u001b[0m\u001b[1;31m:\u001b[0m invalid syntax\n"
     ]
    }
   ],
   "source": [
    "s1.2"
   ]
  },
  {
   "cell_type": "markdown",
   "id": "5db192e2",
   "metadata": {},
   "source": [
    "### 对于 DataFrame"
   ]
  },
  {
   "cell_type": "code",
   "execution_count": 26,
   "id": "294687a3",
   "metadata": {
    "scrolled": true
   },
   "outputs": [
    {
     "data": {
      "text/html": [
       "<div>\n",
       "<style scoped>\n",
       "    .dataframe tbody tr th:only-of-type {\n",
       "        vertical-align: middle;\n",
       "    }\n",
       "\n",
       "    .dataframe tbody tr th {\n",
       "        vertical-align: top;\n",
       "    }\n",
       "\n",
       "    .dataframe thead th {\n",
       "        text-align: right;\n",
       "    }\n",
       "</style>\n",
       "<table border=\"1\" class=\"dataframe\">\n",
       "  <thead>\n",
       "    <tr style=\"text-align: right;\">\n",
       "      <th></th>\n",
       "      <th>ddd</th>\n",
       "      <th>2</th>\n",
       "      <th>his</th>\n",
       "      <th>lalala</th>\n",
       "      <th>may</th>\n",
       "      <th>am</th>\n",
       "      <th>888</th>\n",
       "      <th>fighting</th>\n",
       "      <th>999</th>\n",
       "    </tr>\n",
       "  </thead>\n",
       "  <tbody>\n",
       "    <tr>\n",
       "      <th>good</th>\n",
       "      <td>53</td>\n",
       "      <td>69</td>\n",
       "      <td>-42</td>\n",
       "      <td>-100</td>\n",
       "      <td>-90</td>\n",
       "      <td>-29</td>\n",
       "      <td>62</td>\n",
       "      <td>-23</td>\n",
       "      <td>59</td>\n",
       "    </tr>\n",
       "    <tr>\n",
       "      <th>66</th>\n",
       "      <td>29</td>\n",
       "      <td>94</td>\n",
       "      <td>95</td>\n",
       "      <td>-40</td>\n",
       "      <td>48</td>\n",
       "      <td>94</td>\n",
       "      <td>56</td>\n",
       "      <td>-26</td>\n",
       "      <td>38</td>\n",
       "    </tr>\n",
       "    <tr>\n",
       "      <th>ha</th>\n",
       "      <td>18</td>\n",
       "      <td>64</td>\n",
       "      <td>-4</td>\n",
       "      <td>62</td>\n",
       "      <td>-35</td>\n",
       "      <td>88</td>\n",
       "      <td>92</td>\n",
       "      <td>66</td>\n",
       "      <td>18</td>\n",
       "    </tr>\n",
       "    <tr>\n",
       "      <th>88</th>\n",
       "      <td>-56</td>\n",
       "      <td>36</td>\n",
       "      <td>-18</td>\n",
       "      <td>90</td>\n",
       "      <td>-55</td>\n",
       "      <td>-45</td>\n",
       "      <td>-3</td>\n",
       "      <td>-7</td>\n",
       "      <td>35</td>\n",
       "    </tr>\n",
       "    <tr>\n",
       "      <th>hey</th>\n",
       "      <td>97</td>\n",
       "      <td>73</td>\n",
       "      <td>-56</td>\n",
       "      <td>-54</td>\n",
       "      <td>87</td>\n",
       "      <td>-56</td>\n",
       "      <td>4</td>\n",
       "      <td>9</td>\n",
       "      <td>-51</td>\n",
       "    </tr>\n",
       "    <tr>\n",
       "      <th>ya</th>\n",
       "      <td>4</td>\n",
       "      <td>-17</td>\n",
       "      <td>48</td>\n",
       "      <td>-8</td>\n",
       "      <td>-40</td>\n",
       "      <td>-62</td>\n",
       "      <td>-94</td>\n",
       "      <td>70</td>\n",
       "      <td>-42</td>\n",
       "    </tr>\n",
       "  </tbody>\n",
       "</table>\n",
       "</div>"
      ],
      "text/plain": [
       "      ddd   2  his  lalala  may  am  888  fighting  999\n",
       "good   53  69  -42    -100  -90 -29   62       -23   59\n",
       "66     29  94   95     -40   48  94   56       -26   38\n",
       "ha     18  64   -4      62  -35  88   92        66   18\n",
       "88    -56  36  -18      90  -55 -45   -3        -7   35\n",
       "hey    97  73  -56     -54   87 -56    4         9  -51\n",
       "ya      4 -17   48      -8  -40 -62  -94        70  -42"
      ]
     },
     "execution_count": 26,
     "metadata": {},
     "output_type": "execute_result"
    }
   ],
   "source": [
    "df1 = pd.DataFrame(np.random.randint(-100, 100, size=(6, 9)), index=['good', 66, 'ha', 88, 'hey', 'ya'], \n",
    "                                                                                                      columns=['ddd', 2, 'his', 'lalala', 'may', 'am', '888', 'fighting', '999'])\n",
    "df1"
   ]
  },
  {
   "cell_type": "code",
   "execution_count": 27,
   "id": "f947a42f",
   "metadata": {
    "scrolled": true
   },
   "outputs": [
    {
     "data": {
      "text/plain": [
       "good   -42\n",
       "66      95\n",
       "ha      -4\n",
       "88     -18\n",
       "hey    -56\n",
       "ya      48\n",
       "Name: his, dtype: int32"
      ]
     },
     "execution_count": 27,
     "metadata": {},
     "output_type": "execute_result"
    }
   ],
   "source": [
    "# 只有当索引元素是一个有效的Python标识符时，你才能使用这种访问，例如，df1.2、df1.888是不允许的。\n",
    "df1.his "
   ]
  },
  {
   "cell_type": "code",
   "execution_count": 28,
   "id": "a6f22a91",
   "metadata": {
    "scrolled": true
   },
   "outputs": [
    {
     "ename": "SyntaxError",
     "evalue": "invalid syntax (Temp/ipykernel_26688/2650409092.py, line 1)",
     "output_type": "error",
     "traceback": [
      "\u001b[1;36m  File \u001b[1;32m\"C:\\Users\\蔡鑫\\AppData\\Local\\Temp/ipykernel_26688/2650409092.py\"\u001b[1;36m, line \u001b[1;32m1\u001b[0m\n\u001b[1;33m    df1.2\u001b[0m\n\u001b[1;37m        ^\u001b[0m\n\u001b[1;31mSyntaxError\u001b[0m\u001b[1;31m:\u001b[0m invalid syntax\n"
     ]
    }
   ],
   "source": [
    "df1.2"
   ]
  },
  {
   "cell_type": "code",
   "execution_count": 29,
   "id": "f44b6b8a",
   "metadata": {},
   "outputs": [
    {
     "ename": "SyntaxError",
     "evalue": "invalid syntax (Temp/ipykernel_26688/1261489967.py, line 1)",
     "output_type": "error",
     "traceback": [
      "\u001b[1;36m  File \u001b[1;32m\"C:\\Users\\蔡鑫\\AppData\\Local\\Temp/ipykernel_26688/1261489967.py\"\u001b[1;36m, line \u001b[1;32m1\u001b[0m\n\u001b[1;33m    df1.888\u001b[0m\n\u001b[1;37m          ^\u001b[0m\n\u001b[1;31mSyntaxError\u001b[0m\u001b[1;31m:\u001b[0m invalid syntax\n"
     ]
    }
   ],
   "source": [
    "df1.888"
   ]
  },
  {
   "cell_type": "code",
   "execution_count": 30,
   "id": "83854e62",
   "metadata": {
    "scrolled": true
   },
   "outputs": [
    {
     "data": {
      "text/html": [
       "<div>\n",
       "<style scoped>\n",
       "    .dataframe tbody tr th:only-of-type {\n",
       "        vertical-align: middle;\n",
       "    }\n",
       "\n",
       "    .dataframe tbody tr th {\n",
       "        vertical-align: top;\n",
       "    }\n",
       "\n",
       "    .dataframe thead th {\n",
       "        text-align: right;\n",
       "    }\n",
       "</style>\n",
       "<table border=\"1\" class=\"dataframe\">\n",
       "  <thead>\n",
       "    <tr style=\"text-align: right;\">\n",
       "      <th></th>\n",
       "      <th>ddd</th>\n",
       "      <th>2</th>\n",
       "      <th>his</th>\n",
       "      <th>lalala</th>\n",
       "      <th>may</th>\n",
       "      <th>am</th>\n",
       "      <th>888</th>\n",
       "      <th>fighting</th>\n",
       "      <th>999</th>\n",
       "    </tr>\n",
       "  </thead>\n",
       "  <tbody>\n",
       "    <tr>\n",
       "      <th>good</th>\n",
       "      <td>53</td>\n",
       "      <td>69</td>\n",
       "      <td>0</td>\n",
       "      <td>-100</td>\n",
       "      <td>-90</td>\n",
       "      <td>-29</td>\n",
       "      <td>62</td>\n",
       "      <td>-23</td>\n",
       "      <td>59</td>\n",
       "    </tr>\n",
       "    <tr>\n",
       "      <th>66</th>\n",
       "      <td>29</td>\n",
       "      <td>94</td>\n",
       "      <td>1</td>\n",
       "      <td>-40</td>\n",
       "      <td>48</td>\n",
       "      <td>94</td>\n",
       "      <td>56</td>\n",
       "      <td>-26</td>\n",
       "      <td>38</td>\n",
       "    </tr>\n",
       "    <tr>\n",
       "      <th>ha</th>\n",
       "      <td>18</td>\n",
       "      <td>64</td>\n",
       "      <td>2</td>\n",
       "      <td>62</td>\n",
       "      <td>-35</td>\n",
       "      <td>88</td>\n",
       "      <td>92</td>\n",
       "      <td>66</td>\n",
       "      <td>18</td>\n",
       "    </tr>\n",
       "    <tr>\n",
       "      <th>88</th>\n",
       "      <td>-56</td>\n",
       "      <td>36</td>\n",
       "      <td>3</td>\n",
       "      <td>90</td>\n",
       "      <td>-55</td>\n",
       "      <td>-45</td>\n",
       "      <td>-3</td>\n",
       "      <td>-7</td>\n",
       "      <td>35</td>\n",
       "    </tr>\n",
       "    <tr>\n",
       "      <th>hey</th>\n",
       "      <td>97</td>\n",
       "      <td>73</td>\n",
       "      <td>4</td>\n",
       "      <td>-54</td>\n",
       "      <td>87</td>\n",
       "      <td>-56</td>\n",
       "      <td>4</td>\n",
       "      <td>9</td>\n",
       "      <td>-51</td>\n",
       "    </tr>\n",
       "    <tr>\n",
       "      <th>ya</th>\n",
       "      <td>4</td>\n",
       "      <td>-17</td>\n",
       "      <td>5</td>\n",
       "      <td>-8</td>\n",
       "      <td>-40</td>\n",
       "      <td>-62</td>\n",
       "      <td>-94</td>\n",
       "      <td>70</td>\n",
       "      <td>-42</td>\n",
       "    </tr>\n",
       "  </tbody>\n",
       "</table>\n",
       "</div>"
      ],
      "text/plain": [
       "      ddd   2  his  lalala  may  am  888  fighting  999\n",
       "good   53  69    0    -100  -90 -29   62       -23   59\n",
       "66     29  94    1     -40   48  94   56       -26   38\n",
       "ha     18  64    2      62  -35  88   92        66   18\n",
       "88    -56  36    3      90  -55 -45   -3        -7   35\n",
       "hey    97  73    4     -54   87 -56    4         9  -51\n",
       "ya      4 -17    5      -8  -40 -62  -94        70  -42"
      ]
     },
     "execution_count": 30,
     "metadata": {},
     "output_type": "execute_result"
    }
   ],
   "source": [
    "df1.his = range(6)  # 修改值\n",
    "df1"
   ]
  },
  {
   "cell_type": "markdown",
   "id": "4cb057ef",
   "metadata": {},
   "source": [
    "# selection by callable\n",
    "`.loc`, `.iloc`, and also `[ ]` indexing can accept a callable as indexer. The callable must be a function with one argument (the calling Series or DataFrame) that returns valid output for indexing."
   ]
  },
  {
   "cell_type": "code",
   "execution_count": 33,
   "id": "0199dd6e",
   "metadata": {},
   "outputs": [
    {
     "data": {
      "text/html": [
       "<div>\n",
       "<style scoped>\n",
       "    .dataframe tbody tr th:only-of-type {\n",
       "        vertical-align: middle;\n",
       "    }\n",
       "\n",
       "    .dataframe tbody tr th {\n",
       "        vertical-align: top;\n",
       "    }\n",
       "\n",
       "    .dataframe thead th {\n",
       "        text-align: right;\n",
       "    }\n",
       "</style>\n",
       "<table border=\"1\" class=\"dataframe\">\n",
       "  <thead>\n",
       "    <tr style=\"text-align: right;\">\n",
       "      <th></th>\n",
       "      <th>A</th>\n",
       "      <th>B</th>\n",
       "      <th>C</th>\n",
       "      <th>D</th>\n",
       "    </tr>\n",
       "  </thead>\n",
       "  <tbody>\n",
       "    <tr>\n",
       "      <th>a</th>\n",
       "      <td>52</td>\n",
       "      <td>-87</td>\n",
       "      <td>87</td>\n",
       "      <td>-35</td>\n",
       "    </tr>\n",
       "    <tr>\n",
       "      <th>b</th>\n",
       "      <td>-38</td>\n",
       "      <td>19</td>\n",
       "      <td>-10</td>\n",
       "      <td>27</td>\n",
       "    </tr>\n",
       "    <tr>\n",
       "      <th>c</th>\n",
       "      <td>28</td>\n",
       "      <td>-94</td>\n",
       "      <td>-82</td>\n",
       "      <td>4</td>\n",
       "    </tr>\n",
       "    <tr>\n",
       "      <th>d</th>\n",
       "      <td>7</td>\n",
       "      <td>17</td>\n",
       "      <td>-3</td>\n",
       "      <td>19</td>\n",
       "    </tr>\n",
       "    <tr>\n",
       "      <th>e</th>\n",
       "      <td>-25</td>\n",
       "      <td>-43</td>\n",
       "      <td>-68</td>\n",
       "      <td>73</td>\n",
       "    </tr>\n",
       "    <tr>\n",
       "      <th>f</th>\n",
       "      <td>-74</td>\n",
       "      <td>80</td>\n",
       "      <td>-53</td>\n",
       "      <td>39</td>\n",
       "    </tr>\n",
       "  </tbody>\n",
       "</table>\n",
       "</div>"
      ],
      "text/plain": [
       "    A   B   C   D\n",
       "a  52 -87  87 -35\n",
       "b -38  19 -10  27\n",
       "c  28 -94 -82   4\n",
       "d   7  17  -3  19\n",
       "e -25 -43 -68  73\n",
       "f -74  80 -53  39"
      ]
     },
     "execution_count": 33,
     "metadata": {},
     "output_type": "execute_result"
    }
   ],
   "source": [
    "df2 = pd.DataFrame(np.random.randint(-100, 100, size=(6, 4)),\n",
    "                   index=list('abcdef'),\n",
    "                   columns=list('ABCD'))\n",
    "df2"
   ]
  },
  {
   "cell_type": "code",
   "execution_count": 35,
   "id": "28bcc080",
   "metadata": {},
   "outputs": [
    {
     "data": {
      "text/html": [
       "<div>\n",
       "<style scoped>\n",
       "    .dataframe tbody tr th:only-of-type {\n",
       "        vertical-align: middle;\n",
       "    }\n",
       "\n",
       "    .dataframe tbody tr th {\n",
       "        vertical-align: top;\n",
       "    }\n",
       "\n",
       "    .dataframe thead th {\n",
       "        text-align: right;\n",
       "    }\n",
       "</style>\n",
       "<table border=\"1\" class=\"dataframe\">\n",
       "  <thead>\n",
       "    <tr style=\"text-align: right;\">\n",
       "      <th></th>\n",
       "      <th>A</th>\n",
       "      <th>B</th>\n",
       "      <th>C</th>\n",
       "      <th>D</th>\n",
       "    </tr>\n",
       "  </thead>\n",
       "  <tbody>\n",
       "    <tr>\n",
       "      <th>a</th>\n",
       "      <td>52</td>\n",
       "      <td>-87</td>\n",
       "      <td>87</td>\n",
       "      <td>-35</td>\n",
       "    </tr>\n",
       "    <tr>\n",
       "      <th>c</th>\n",
       "      <td>28</td>\n",
       "      <td>-94</td>\n",
       "      <td>-82</td>\n",
       "      <td>4</td>\n",
       "    </tr>\n",
       "    <tr>\n",
       "      <th>d</th>\n",
       "      <td>7</td>\n",
       "      <td>17</td>\n",
       "      <td>-3</td>\n",
       "      <td>19</td>\n",
       "    </tr>\n",
       "  </tbody>\n",
       "</table>\n",
       "</div>"
      ],
      "text/plain": [
       "    A   B   C   D\n",
       "a  52 -87  87 -35\n",
       "c  28 -94 -82   4\n",
       "d   7  17  -3  19"
      ]
     },
     "execution_count": 35,
     "metadata": {},
     "output_type": "execute_result"
    }
   ],
   "source": [
    "df2.loc[lambda df: df['A'] > 0, :]"
   ]
  },
  {
   "cell_type": "code",
   "execution_count": 38,
   "id": "b231611e",
   "metadata": {},
   "outputs": [
    {
     "data": {
      "text/html": [
       "<div>\n",
       "<style scoped>\n",
       "    .dataframe tbody tr th:only-of-type {\n",
       "        vertical-align: middle;\n",
       "    }\n",
       "\n",
       "    .dataframe tbody tr th {\n",
       "        vertical-align: top;\n",
       "    }\n",
       "\n",
       "    .dataframe thead th {\n",
       "        text-align: right;\n",
       "    }\n",
       "</style>\n",
       "<table border=\"1\" class=\"dataframe\">\n",
       "  <thead>\n",
       "    <tr style=\"text-align: right;\">\n",
       "      <th></th>\n",
       "      <th>A</th>\n",
       "      <th>B</th>\n",
       "    </tr>\n",
       "  </thead>\n",
       "  <tbody>\n",
       "    <tr>\n",
       "      <th>a</th>\n",
       "      <td>52</td>\n",
       "      <td>-87</td>\n",
       "    </tr>\n",
       "    <tr>\n",
       "      <th>b</th>\n",
       "      <td>-38</td>\n",
       "      <td>19</td>\n",
       "    </tr>\n",
       "    <tr>\n",
       "      <th>c</th>\n",
       "      <td>28</td>\n",
       "      <td>-94</td>\n",
       "    </tr>\n",
       "    <tr>\n",
       "      <th>d</th>\n",
       "      <td>7</td>\n",
       "      <td>17</td>\n",
       "    </tr>\n",
       "    <tr>\n",
       "      <th>e</th>\n",
       "      <td>-25</td>\n",
       "      <td>-43</td>\n",
       "    </tr>\n",
       "    <tr>\n",
       "      <th>f</th>\n",
       "      <td>-74</td>\n",
       "      <td>80</td>\n",
       "    </tr>\n",
       "  </tbody>\n",
       "</table>\n",
       "</div>"
      ],
      "text/plain": [
       "    A   B\n",
       "a  52 -87\n",
       "b -38  19\n",
       "c  28 -94\n",
       "d   7  17\n",
       "e -25 -43\n",
       "f -74  80"
      ]
     },
     "execution_count": 38,
     "metadata": {},
     "output_type": "execute_result"
    }
   ],
   "source": [
    "df2.loc[:, lambda df: ['A', 'B']]"
   ]
  },
  {
   "cell_type": "code",
   "execution_count": 40,
   "id": "b1f86261",
   "metadata": {
    "scrolled": true
   },
   "outputs": [
    {
     "data": {
      "text/plain": [
       "'A'"
      ]
     },
     "execution_count": 40,
     "metadata": {},
     "output_type": "execute_result"
    }
   ],
   "source": [
    "df2.columns[0]"
   ]
  },
  {
   "cell_type": "code",
   "execution_count": 45,
   "id": "96c74e6e",
   "metadata": {
    "scrolled": true
   },
   "outputs": [
    {
     "data": {
      "text/plain": [
       "a    52\n",
       "b   -38\n",
       "c    28\n",
       "d     7\n",
       "e   -25\n",
       "f   -74\n",
       "Name: A, dtype: int32"
      ]
     },
     "execution_count": 45,
     "metadata": {},
     "output_type": "execute_result"
    }
   ],
   "source": [
    "df2[lambda df: df.columns[0]]"
   ]
  },
  {
   "cell_type": "code",
   "execution_count": 48,
   "id": "3b56bc27",
   "metadata": {},
   "outputs": [
    {
     "data": {
      "text/html": [
       "<div>\n",
       "<style scoped>\n",
       "    .dataframe tbody tr th:only-of-type {\n",
       "        vertical-align: middle;\n",
       "    }\n",
       "\n",
       "    .dataframe tbody tr th {\n",
       "        vertical-align: top;\n",
       "    }\n",
       "\n",
       "    .dataframe thead th {\n",
       "        text-align: right;\n",
       "    }\n",
       "</style>\n",
       "<table border=\"1\" class=\"dataframe\">\n",
       "  <thead>\n",
       "    <tr style=\"text-align: right;\">\n",
       "      <th></th>\n",
       "      <th>A</th>\n",
       "      <th>B</th>\n",
       "      <th>C</th>\n",
       "      <th>D</th>\n",
       "    </tr>\n",
       "  </thead>\n",
       "  <tbody>\n",
       "    <tr>\n",
       "      <th>a</th>\n",
       "      <td>52</td>\n",
       "      <td>-87</td>\n",
       "      <td>87</td>\n",
       "      <td>-35</td>\n",
       "    </tr>\n",
       "    <tr>\n",
       "      <th>b</th>\n",
       "      <td>-38</td>\n",
       "      <td>19</td>\n",
       "      <td>-10</td>\n",
       "      <td>27</td>\n",
       "    </tr>\n",
       "    <tr>\n",
       "      <th>c</th>\n",
       "      <td>28</td>\n",
       "      <td>-94</td>\n",
       "      <td>-82</td>\n",
       "      <td>4</td>\n",
       "    </tr>\n",
       "    <tr>\n",
       "      <th>d</th>\n",
       "      <td>7</td>\n",
       "      <td>17</td>\n",
       "      <td>-3</td>\n",
       "      <td>19</td>\n",
       "    </tr>\n",
       "    <tr>\n",
       "      <th>e</th>\n",
       "      <td>-25</td>\n",
       "      <td>-43</td>\n",
       "      <td>-68</td>\n",
       "      <td>73</td>\n",
       "    </tr>\n",
       "    <tr>\n",
       "      <th>f</th>\n",
       "      <td>-74</td>\n",
       "      <td>80</td>\n",
       "      <td>-53</td>\n",
       "      <td>39</td>\n",
       "    </tr>\n",
       "  </tbody>\n",
       "</table>\n",
       "</div>"
      ],
      "text/plain": [
       "    A   B   C   D\n",
       "a  52 -87  87 -35\n",
       "b -38  19 -10  27\n",
       "c  28 -94 -82   4\n",
       "d   7  17  -3  19\n",
       "e -25 -43 -68  73\n",
       "f -74  80 -53  39"
      ]
     },
     "execution_count": 48,
     "metadata": {},
     "output_type": "execute_result"
    }
   ],
   "source": [
    "df2"
   ]
  },
  {
   "cell_type": "code",
   "execution_count": 47,
   "id": "88d501b7",
   "metadata": {},
   "outputs": [
    {
     "data": {
      "text/plain": [
       "a    52\n",
       "c    28\n",
       "d     7\n",
       "Name: A, dtype: int32"
      ]
     },
     "execution_count": 47,
     "metadata": {},
     "output_type": "execute_result"
    }
   ],
   "source": [
    "# You can use callable indexing in Series.\n",
    "df2['A'].loc[lambda s: s > 0]"
   ]
  },
  {
   "cell_type": "code",
   "execution_count": null,
   "id": "8732ac6f",
   "metadata": {},
   "outputs": [],
   "source": []
  },
  {
   "cell_type": "code",
   "execution_count": null,
   "id": "b65b44aa",
   "metadata": {},
   "outputs": [],
   "source": []
  },
  {
   "cell_type": "code",
   "execution_count": null,
   "id": "fb44c622",
   "metadata": {},
   "outputs": [],
   "source": []
  }
 ],
 "metadata": {
  "kernelspec": {
   "display_name": "Python 3 (ipykernel)",
   "language": "python",
   "name": "python3"
  },
  "language_info": {
   "codemirror_mode": {
    "name": "ipython",
    "version": 3
   },
   "file_extension": ".py",
   "mimetype": "text/x-python",
   "name": "python",
   "nbconvert_exporter": "python",
   "pygments_lexer": "ipython3",
   "version": "3.7.6"
  }
 },
 "nbformat": 4,
 "nbformat_minor": 5
}
