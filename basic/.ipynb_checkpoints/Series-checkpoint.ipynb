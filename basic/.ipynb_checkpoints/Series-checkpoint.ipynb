{
 "cells": [
  {
   "cell_type": "code",
   "execution_count": 1,
   "id": "d6efa0d1",
   "metadata": {},
   "outputs": [],
   "source": [
    "import numpy as np\n",
    "import pandas as pd"
   ]
  },
  {
   "cell_type": "markdown",
   "id": "4e943433",
   "metadata": {},
   "source": [
    "# Series的基本属性\n",
    "`index`、`dtype`、`name`"
   ]
  },
  {
   "cell_type": "markdown",
   "id": "d1ecbeb9",
   "metadata": {},
   "source": [
    "# from dict（字典）\n",
    "Series can be instantiated from dicts:"
   ]
  },
  {
   "cell_type": "code",
   "execution_count": 2,
   "id": "9b4f813f",
   "metadata": {
    "scrolled": false
   },
   "outputs": [
    {
     "name": "stdout",
     "output_type": "stream",
     "text": [
      "d:  <class 'dict'> \n",
      "\n",
      "--------------------\n",
      "s:\n",
      " 1        1\n",
      "3       dd\n",
      "123    321\n",
      "666    666\n",
      "dtype: object \n",
      "\n",
      " <class 'pandas.core.series.Series'>\n",
      "\n",
      " Index([1, '3', 123, 666], dtype='object')\n"
     ]
    }
   ],
   "source": [
    "d = {1: 1, '3':  'dd', 123: 321}\n",
    "d[666] = 666\n",
    "print('d: ', type(d), '\\n')\n",
    "print('-'*20)\n",
    "\n",
    "s = pd.Series(d)\n",
    "print('s:\\n', s, '\\n\\n', type(s))\n",
    "print('\\n', s.index)"
   ]
  },
  {
   "cell_type": "code",
   "execution_count": 3,
   "id": "1a28b541",
   "metadata": {
    "scrolled": true
   },
   "outputs": [
    {
     "data": {
      "text/plain": [
       "b    3.1\n",
       "c    2.0\n",
       "a    4.8\n",
       "dtype: float64"
      ]
     },
     "execution_count": 3,
     "metadata": {},
     "output_type": "execute_result"
    }
   ],
   "source": [
    "d = {\"b\": 3.1, \"c\": 2.0, \"a\": 4.8}\n",
    "pd.Series(d)"
   ]
  },
  {
   "cell_type": "code",
   "execution_count": 4,
   "id": "945bee7d",
   "metadata": {},
   "outputs": [
    {
     "data": {
      "text/plain": [
       "b    3.1\n",
       "c    2.0\n",
       "d    NaN\n",
       "a    4.8\n",
       "dtype: float64"
      ]
     },
     "execution_count": 4,
     "metadata": {},
     "output_type": "execute_result"
    }
   ],
   "source": [
    "# 自定义其他index\n",
    "# 注意：NaN (not a number) is the standard missing data marker used in pandas.\n",
    "pd.Series(d, index=[\"b\", \"c\", \"d\", \"a\"])"
   ]
  },
  {
   "cell_type": "markdown",
   "id": "068aa2a6",
   "metadata": {},
   "source": [
    "# Series is ndarray-like\n",
    "Series acts very similarly to a ndarray, and is a valid argument to most NumPy functions. However, operations such as slicing will also slice the index."
   ]
  },
  {
   "cell_type": "code",
   "execution_count": 5,
   "id": "0b3b8cc6",
   "metadata": {},
   "outputs": [
    {
     "name": "stdout",
     "output_type": "stream",
     "text": [
      "float64 \n",
      "\n",
      "you          1.0\n",
      "and          4.8\n",
      "me           8.6\n",
      "forever     12.4\n",
      "be          16.2\n",
      "together    20.0\n",
      "dtype: float64\n"
     ]
    }
   ],
   "source": [
    "s = pd.Series(np.linspace(1, 20, 6), index=['you', 'and', 'me', 'forever', 'be', 'together'])\n",
    "print(s.dtype, '\\n')\n",
    "print(s)"
   ]
  },
  {
   "cell_type": "code",
   "execution_count": 6,
   "id": "770cdd04",
   "metadata": {},
   "outputs": [
    {
     "data": {
      "text/plain": [
       "1.0"
      ]
     },
     "execution_count": 6,
     "metadata": {},
     "output_type": "execute_result"
    }
   ],
   "source": [
    "s[0]"
   ]
  },
  {
   "cell_type": "code",
   "execution_count": 7,
   "id": "c558d0cf",
   "metadata": {},
   "outputs": [
    {
     "data": {
      "text/plain": [
       "you    1.0\n",
       "and    4.8\n",
       "me     8.6\n",
       "dtype: float64"
      ]
     },
     "execution_count": 7,
     "metadata": {},
     "output_type": "execute_result"
    }
   ],
   "source": [
    "s[:3]"
   ]
  },
  {
   "cell_type": "code",
   "execution_count": 8,
   "id": "ba6a31ea",
   "metadata": {},
   "outputs": [
    {
     "name": "stdout",
     "output_type": "stream",
     "text": [
      "10.5\n"
     ]
    },
    {
     "data": {
      "text/plain": [
       "forever     12.4\n",
       "be          16.2\n",
       "together    20.0\n",
       "dtype: float64"
      ]
     },
     "execution_count": 8,
     "metadata": {},
     "output_type": "execute_result"
    }
   ],
   "source": [
    "print(s.median())  # median() 是计算中位数的方法\n",
    "s[s > s.median()]"
   ]
  },
  {
   "cell_type": "code",
   "execution_count": 9,
   "id": "ee0e3462",
   "metadata": {
    "scrolled": true
   },
   "outputs": [
    {
     "data": {
      "text/plain": [
       "you         2.718282e+00\n",
       "and         1.215104e+02\n",
       "me          5.431660e+03\n",
       "forever     2.428016e+05\n",
       "be          1.085352e+07\n",
       "together    4.851652e+08\n",
       "dtype: float64"
      ]
     },
     "execution_count": 9,
     "metadata": {},
     "output_type": "execute_result"
    }
   ],
   "source": [
    "np.exp(s)"
   ]
  },
  {
   "cell_type": "code",
   "execution_count": 10,
   "id": "f568a2e0",
   "metadata": {},
   "outputs": [
    {
     "data": {
      "text/plain": [
       "be         16.2\n",
       "forever    12.4\n",
       "and         4.8\n",
       "dtype: float64"
      ]
     },
     "execution_count": 10,
     "metadata": {},
     "output_type": "execute_result"
    }
   ],
   "source": [
    "# We will address array-based indexing like s[[4, 3, 1]] in section on indexing.\n",
    "# 链接：https://pandas.pydata.org/docs/user_guide/indexing.html#indexing\n",
    "s[[4, 3, 1]]"
   ]
  },
  {
   "cell_type": "code",
   "execution_count": 11,
   "id": "259fcd40",
   "metadata": {},
   "outputs": [
    {
     "data": {
      "text/plain": [
       "<PandasArray>\n",
       "[1.0, 4.8, 8.6, 12.399999999999999, 16.2, 20.0]\n",
       "Length: 6, dtype: float64"
      ]
     },
     "execution_count": 11,
     "metadata": {},
     "output_type": "execute_result"
    }
   ],
   "source": [
    "# If you need the actual array backing a Series, use Series.array.\n",
    "s.array"
   ]
  },
  {
   "cell_type": "code",
   "execution_count": 12,
   "id": "3da86e9a",
   "metadata": {},
   "outputs": [
    {
     "data": {
      "text/plain": [
       "array([ 1. ,  4.8,  8.6, 12.4, 16.2, 20. ])"
      ]
     },
     "execution_count": 12,
     "metadata": {},
     "output_type": "execute_result"
    }
   ],
   "source": [
    "s.to_numpy()"
   ]
  },
  {
   "cell_type": "markdown",
   "id": "61072166",
   "metadata": {},
   "source": [
    "# Series is dict-like\n",
    "A Series is like a fixed-size dict in that you can get and set values by index label."
   ]
  },
  {
   "cell_type": "code",
   "execution_count": 13,
   "id": "f835f118",
   "metadata": {},
   "outputs": [
    {
     "data": {
      "text/plain": [
       "12.399999999999999"
      ]
     },
     "execution_count": 13,
     "metadata": {},
     "output_type": "execute_result"
    }
   ],
   "source": [
    "s[\"forever\"] "
   ]
  },
  {
   "cell_type": "code",
   "execution_count": 14,
   "id": "dfa300b4",
   "metadata": {},
   "outputs": [
    {
     "data": {
      "text/plain": [
       "you             1.0\n",
       "and             4.8\n",
       "me              8.6\n",
       "forever     99999.0\n",
       "be             16.2\n",
       "together       20.0\n",
       "dtype: float64"
      ]
     },
     "execution_count": 14,
     "metadata": {},
     "output_type": "execute_result"
    }
   ],
   "source": [
    "s['forever'] = 99999\n",
    "s"
   ]
  },
  {
   "cell_type": "code",
   "execution_count": 15,
   "id": "f5e03f45",
   "metadata": {},
   "outputs": [
    {
     "name": "stdout",
     "output_type": "stream",
     "text": [
      "True\n",
      "False\n"
     ]
    }
   ],
   "source": [
    "print('me' in s)\n",
    "print('Jack' in s)"
   ]
  },
  {
   "cell_type": "code",
   "execution_count": 16,
   "id": "31c746df",
   "metadata": {},
   "outputs": [
    {
     "name": "stdout",
     "output_type": "stream",
     "text": [
      "None\n",
      "nan\n"
     ]
    }
   ],
   "source": [
    "# If a label is not contained, an exception is raised.\n",
    "# Using the get method, a missing label will return None or specified default.\n",
    "print(s.get('Jack'))\n",
    "print(s.get('jack', np.nan))"
   ]
  },
  {
   "cell_type": "markdown",
   "id": "7de71824",
   "metadata": {},
   "source": [
    "# Vectorized operations and label alignment with Series"
   ]
  },
  {
   "cell_type": "code",
   "execution_count": 17,
   "id": "ed6feccf",
   "metadata": {},
   "outputs": [
    {
     "data": {
      "text/plain": [
       "you             1.0\n",
       "and             4.8\n",
       "me              8.6\n",
       "forever     99999.0\n",
       "be             16.2\n",
       "together       20.0\n",
       "dtype: float64"
      ]
     },
     "execution_count": 17,
     "metadata": {},
     "output_type": "execute_result"
    }
   ],
   "source": [
    "s"
   ]
  },
  {
   "cell_type": "code",
   "execution_count": 18,
   "id": "a3921321",
   "metadata": {},
   "outputs": [
    {
     "data": {
      "text/plain": [
       "you              2.0\n",
       "and              9.6\n",
       "me              17.2\n",
       "forever     199998.0\n",
       "be              32.4\n",
       "together        40.0\n",
       "dtype: float64"
      ]
     },
     "execution_count": 18,
     "metadata": {},
     "output_type": "execute_result"
    }
   ],
   "source": [
    "s + s"
   ]
  },
  {
   "cell_type": "code",
   "execution_count": 19,
   "id": "32e77619",
   "metadata": {},
   "outputs": [
    {
     "data": {
      "text/plain": [
       "you         1.000000e+00\n",
       "and         2.304000e+01\n",
       "me          7.396000e+01\n",
       "forever     9.999800e+09\n",
       "be          2.624400e+02\n",
       "together    4.000000e+02\n",
       "dtype: float64"
      ]
     },
     "execution_count": 19,
     "metadata": {},
     "output_type": "execute_result"
    }
   ],
   "source": [
    "s * s"
   ]
  },
  {
   "cell_type": "code",
   "execution_count": 20,
   "id": "37dd8c61",
   "metadata": {},
   "outputs": [
    {
     "data": {
      "text/plain": [
       "you         0.841471\n",
       "and        -0.996165\n",
       "me          0.734397\n",
       "forever     0.860248\n",
       "be         -0.472422\n",
       "together    0.912945\n",
       "dtype: float64"
      ]
     },
     "execution_count": 20,
     "metadata": {},
     "output_type": "execute_result"
    }
   ],
   "source": [
    "np.sin(s)"
   ]
  },
  {
   "cell_type": "code",
   "execution_count": 21,
   "id": "84d68faa",
   "metadata": {},
   "outputs": [
    {
     "name": "stdout",
     "output_type": "stream",
     "text": [
      "and              NaN\n",
      "be              32.4\n",
      "forever     199998.0\n",
      "me              17.2\n",
      "together        40.0\n",
      "you              NaN\n",
      "dtype: float64\n"
     ]
    },
    {
     "data": {
      "text/plain": [
       "nan"
      ]
     },
     "execution_count": 21,
     "metadata": {},
     "output_type": "execute_result"
    }
   ],
   "source": [
    "s1 = s[2:] + s[:]\n",
    "print(s1)\n",
    "s1['you']"
   ]
  },
  {
   "cell_type": "markdown",
   "id": "54e7d475",
   "metadata": {},
   "source": [
    "# Name attribute\n",
    "Series can also have a `name` attribute."
   ]
  },
  {
   "cell_type": "code",
   "execution_count": 22,
   "id": "acbc51ee",
   "metadata": {},
   "outputs": [
    {
     "name": "stdout",
     "output_type": "stream",
     "text": [
      "0   -0.670382\n",
      "1   -0.608059\n",
      "2   -1.107310\n",
      "3    1.030619\n",
      "4    0.724862\n",
      "Name: something, dtype: float64 \n",
      "\n",
      "something\n"
     ]
    }
   ],
   "source": [
    "s = pd.Series(np.random.randn(5), name=\"something\")\n",
    "print(s, '\\n')\n",
    "\n",
    "print(s.name)"
   ]
  },
  {
   "cell_type": "code",
   "execution_count": 23,
   "id": "eb92fa51",
   "metadata": {},
   "outputs": [
    {
     "data": {
      "text/plain": [
       "0   -0.670382\n",
       "1   -0.608059\n",
       "2   -1.107310\n",
       "3    1.030619\n",
       "4    0.724862\n",
       "Name: different, dtype: float64"
      ]
     },
     "execution_count": 23,
     "metadata": {},
     "output_type": "execute_result"
    }
   ],
   "source": [
    "# You can rename a Series with the pandas.Series.rename() method.\n",
    "# Note that s and s2 refer to different objects.\n",
    "s = s.rename(\"different\")\n",
    "s"
   ]
  }
 ],
 "metadata": {
  "kernelspec": {
   "display_name": "Python 3 (ipykernel)",
   "language": "python",
   "name": "python3"
  },
  "language_info": {
   "codemirror_mode": {
    "name": "ipython",
    "version": 3
   },
   "file_extension": ".py",
   "mimetype": "text/x-python",
   "name": "python",
   "nbconvert_exporter": "python",
   "pygments_lexer": "ipython3",
   "version": "3.7.6"
  }
 },
 "nbformat": 4,
 "nbformat_minor": 5
}
